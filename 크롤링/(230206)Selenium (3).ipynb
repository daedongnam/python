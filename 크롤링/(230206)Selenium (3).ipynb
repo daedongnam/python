{
 "cells": [
  {
   "cell_type": "code",
   "execution_count": 1,
   "metadata": {},
   "outputs": [
    {
     "name": "stderr",
     "output_type": "stream",
     "text": [
      "/var/folders/pl/8817x5y95pn7pxslrlslgvt80000gn/T/ipykernel_8157/1903832916.py:2: DeprecationWarning: executable_path has been deprecated, please pass in a Service object\n",
      "  driver = webdriver.Chrome(\"/Users/jin0/Desktop/강의/2023/SBA/Selenium 2/chromedriver\")\n"
     ]
    }
   ],
   "source": [
    "from selenium import webdriver\n",
    "driver = webdriver.Chrome(\"/Users/jin0/Desktop/강의/2023/SBA/Selenium 2/chromedriver\")\n",
    "url = \"https://news.naver.com/main/main.naver?mode=LSD&mid=shm&sid1=101\"\n",
    "driver.get(url)\n",
    "driver.implicitly_wait(10) # 웹페이지가 열릴 때 까지 대기"
   ]
  },
  {
   "cell_type": "code",
   "execution_count": null,
   "metadata": {},
   "outputs": [],
   "source": []
  }
 ],
 "metadata": {
  "kernelspec": {
   "display_name": "Python 3.8.13 ('py_3_8')",
   "language": "python",
   "name": "python3"
  },
  "language_info": {
   "codemirror_mode": {
    "name": "ipython",
    "version": 3
   },
   "file_extension": ".py",
   "mimetype": "text/x-python",
   "name": "python",
   "nbconvert_exporter": "python",
   "pygments_lexer": "ipython3",
   "version": "3.8.13"
  },
  "orig_nbformat": 4,
  "vscode": {
   "interpreter": {
    "hash": "55f21f97adbd8e2de1beb0c9f6c217f65e0c91757d4921cbc5f4ba80427ea18e"
   }
  }
 },
 "nbformat": 4,
 "nbformat_minor": 2
}
