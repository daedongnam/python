{
 "cells": [
  {
   "cell_type": "code",
   "execution_count": null,
   "id": "f3078548-e103-4477-9169-9df52c6fb909",
   "metadata": {},
   "outputs": [],
   "source": []
  },
  {
   "cell_type": "markdown",
   "id": "dd775a92-1306-4dcf-913c-41a032102a2d",
   "metadata": {},
   "source": [
    "힌트\n",
    "- 이전 숫자가 다음 숫자에게 영향을 준다.\n",
    "- 결국 N번째 계단은 이전 숫자에서 하나를 더하거나 덜한 것이다.\n",
    "     f(N,n) = f(N-1, d-1) + f(N-1, d+1)\n",
    "     \n",
    "     하지만 시작숫자는 0 이 될 수 없다.\n",
    "     \n",
    "     마지막숫자가 9가 오는 경우에는 다른 숫자와 달리 하나만 올 수 있다.\n",
    "- f(N,n) (길이가 N이고 마지막 숫자 : n)\n",
    "    f(N, 0) + f(N, 1) + f(N, 2) + … + f(N, 9)\n"
   ]
  },
  {
   "cell_type": "code",
   "execution_count": 5,
   "id": "1443fbad-9154-4a12-ae72-84438b2de4ef",
   "metadata": {},
   "outputs": [
    {
     "name": "stdin",
     "output_type": "stream",
     "text": [
      " 2\n"
     ]
    },
    {
     "name": "stdout",
     "output_type": "stream",
     "text": [
      "16\n"
     ]
    }
   ],
   "source": [
    "cache = [[-1]*1001 for _ in range(101)]  # n * N 의 캐시테이블을 만든것.\n",
    "\n",
    "for d in range(1,10):  # 길이가 1이고 마지막숫자가 1~9\n",
    "    cache[1][d] = 1\n",
    "\n",
    "# d = 0일때  cache[n-1][d+1]\n",
    "# d = 9일때  cache[n-1][d-1]\n",
    "# cache[n][d] = cache[n-1][d-1] + cache[n-1][d+1]\n",
    "\n",
    "for n in range(2, 101):\n",
    "    for d in range(10):\n",
    "        if d == 0:\n",
    "            cache[n][d] = cache[n-1][d+1]\n",
    "        elif d == 9:\n",
    "            cache[n][d] = cache[n-1][d-1]\n",
    "        else:\n",
    "            cache[n][d] = cache[n-1][d-1] + cache[n-1][d+1]\n",
    "        cache[n][d] %= 1_000_000_000\n",
    "        \n",
    "N = int(input())\n",
    "result = 0\n",
    "for d in range(10):\n",
    "    result += cache[N][d]\n",
    "print(result)\n",
    "\n",
    "\n",
    "# 12 23 34 45 56 67 78 89\n",
    "# 10 21 32 43 54 65 76 87 98\n"
   ]
  },
  {
   "cell_type": "markdown",
   "id": "6cd94a93-4681-4d69-9554-7402df7fa96b",
   "metadata": {},
   "source": [
    "# numpy"
   ]
  },
  {
   "cell_type": "code",
   "execution_count": null,
   "id": "7cbf1449-1856-4d6b-abd3-ebac6ed7e6d4",
   "metadata": {},
   "outputs": [],
   "source": []
  },
  {
   "cell_type": "code",
   "execution_count": 3,
   "id": "cac13e9a-4733-4b4b-80c5-1bc7b937024e",
   "metadata": {},
   "outputs": [],
   "source": [
    "import numpy as np"
   ]
  },
  {
   "cell_type": "code",
   "execution_count": 18,
   "id": "5f85d0fc-af3b-41cc-99d6-1fea655ebb3e",
   "metadata": {},
   "outputs": [
    {
     "name": "stdout",
     "output_type": "stream",
     "text": [
      "[[1 2 3]\n",
      " [4 5 6]]\n",
      "(2, 3)\n"
     ]
    }
   ],
   "source": [
    "## array 생성\n",
    "\n",
    "array_2D = np.array([[1, 2, 3],\n",
    "                   [4, 5, 6]])\n",
    "print(array_2D)\n",
    "print(array_2D.shape)"
   ]
  },
  {
   "cell_type": "code",
   "execution_count": 4,
   "id": "0a8bb682-34f5-40d2-828d-076e05073606",
   "metadata": {},
   "outputs": [],
   "source": [
    "array_2D = np.array([[1,2,3],\n",
    "                    [4,5,6]])"
   ]
  },
  {
   "cell_type": "code",
   "execution_count": null,
   "id": "75c4b75c-9aff-495b-821d-88df48f653a7",
   "metadata": {},
   "outputs": [],
   "source": []
  },
  {
   "cell_type": "code",
   "execution_count": 6,
   "id": "7140ea67-a138-4a93-be9c-2d618ca73e22",
   "metadata": {},
   "outputs": [
    {
     "data": {
      "text/plain": [
       "3"
      ]
     },
     "execution_count": 6,
     "metadata": {},
     "output_type": "execute_result"
    }
   ],
   "source": [
    "array_2D[0]\n",
    "array_2D[0,2]"
   ]
  },
  {
   "cell_type": "code",
   "execution_count": 20,
   "id": "dedd4c27-66dc-4b21-bb76-3b75fe166d8d",
   "metadata": {},
   "outputs": [
    {
     "data": {
      "text/plain": [
       "5"
      ]
     },
     "execution_count": 20,
     "metadata": {},
     "output_type": "execute_result"
    }
   ],
   "source": [
    "array_2D[1][1]"
   ]
  },
  {
   "cell_type": "code",
   "execution_count": null,
   "id": "3d3b1e23-b8a6-40a8-a815-ccf30a36e8a0",
   "metadata": {},
   "outputs": [],
   "source": []
  },
  {
   "cell_type": "code",
   "execution_count": 15,
   "id": "af32df92-222d-4f04-8805-f70b7b7ace0a",
   "metadata": {},
   "outputs": [
    {
     "name": "stdout",
     "output_type": "stream",
     "text": [
      "[[[1 2 3]\n",
      "  [4 5 6]\n",
      "  [1 2 3]\n",
      "  [4 5 6]]]\n",
      "(1, 4, 3)\n"
     ]
    }
   ],
   "source": [
    "array_3D = np.array([[[1,2,3],\n",
    "                    [4,5,6],\n",
    "                    [1,2,3],\n",
    "                     [4,5,6],]])\n",
    "print(array_3D)\n",
    "print(array_3D.shape)"
   ]
  },
  {
   "cell_type": "code",
   "execution_count": 21,
   "id": "1106392b-cc5a-4465-be9a-7f6b04542213",
   "metadata": {},
   "outputs": [
    {
     "data": {
      "text/plain": [
       "array([1, 2, 3])"
      ]
     },
     "execution_count": 21,
     "metadata": {},
     "output_type": "execute_result"
    }
   ],
   "source": [
    "array_3D[0][0]"
   ]
  },
  {
   "cell_type": "code",
   "execution_count": null,
   "id": "4e5c0799-f21c-48fe-b3d7-bcba574c886b",
   "metadata": {},
   "outputs": [],
   "source": []
  },
  {
   "cell_type": "code",
   "execution_count": 25,
   "id": "0becee19-7e3c-4339-ad14-ef62bebf42b2",
   "metadata": {},
   "outputs": [
    {
     "data": {
      "text/plain": [
       "3.5"
      ]
     },
     "execution_count": 25,
     "metadata": {},
     "output_type": "execute_result"
    }
   ],
   "source": [
    "array_3D.mean()"
   ]
  },
  {
   "cell_type": "markdown",
   "id": "ac71fdb3-32c4-421f-a0b5-9a336a42f190",
   "metadata": {},
   "source": [
    "딥러닝때 모양 변경하기 적용"
   ]
  },
  {
   "cell_type": "code",
   "execution_count": 89,
   "id": "be7373c3-66c9-4c29-b6ec-6609c88501c6",
   "metadata": {},
   "outputs": [
    {
     "name": "stdout",
     "output_type": "stream",
     "text": [
      "[ 0  1  2  3  4  5  6  7  8  9 10 11 12 13 14]\n",
      "(15,)\n"
     ]
    },
    {
     "data": {
      "text/plain": [
       "array([[ 0],\n",
       "       [ 1],\n",
       "       [ 2],\n",
       "       [ 3],\n",
       "       [ 4],\n",
       "       [ 5],\n",
       "       [ 6],\n",
       "       [ 7],\n",
       "       [ 8],\n",
       "       [ 9],\n",
       "       [10],\n",
       "       [11],\n",
       "       [12],\n",
       "       [13],\n",
       "       [14]])"
      ]
     },
     "execution_count": 89,
     "metadata": {},
     "output_type": "execute_result"
    }
   ],
   "source": [
    "array = np.arange(15)\n",
    "print(array)\n",
    "print(array.shape)\n",
    "array.reshape(15,1)"
   ]
  },
  {
   "cell_type": "code",
   "execution_count": 34,
   "id": "157a6fa8-5bd2-4f85-a3ea-8ad82c432be7",
   "metadata": {},
   "outputs": [
    {
     "data": {
      "text/plain": [
       "1"
      ]
     },
     "execution_count": 34,
     "metadata": {},
     "output_type": "execute_result"
    }
   ],
   "source": [
    "array.ndim"
   ]
  },
  {
   "cell_type": "code",
   "execution_count": 35,
   "id": "6872bd49-2a47-4a1a-8762-13f2a4eb989f",
   "metadata": {},
   "outputs": [
    {
     "data": {
      "text/plain": [
       "array([[ 0,  1,  2,  3,  4,  5,  6,  7,  8,  9, 10, 11, 12, 13, 14]])"
      ]
     },
     "execution_count": 35,
     "metadata": {},
     "output_type": "execute_result"
    }
   ],
   "source": [
    "array.reshape(3,5)\n",
    "array.reshape(1,15) # 질문 해볼것"
   ]
  },
  {
   "cell_type": "code",
   "execution_count": null,
   "id": "91eaf01c-19d8-4afd-8b28-b18505bfd3d7",
   "metadata": {},
   "outputs": [],
   "source": [
    "# ndim, size데이터개수 파악 가능"
   ]
  },
  {
   "cell_type": "code",
   "execution_count": 7,
   "id": "e24b2d2d-be7a-470a-bf22-1564ab29dd70",
   "metadata": {},
   "outputs": [
    {
     "name": "stdout",
     "output_type": "stream",
     "text": [
      "[ 0  5 10 15 20 25 30 35 40 45 50 55 60 65 70 75 80 85 90 95]\n",
      "20\n",
      "array_1D.shape, (20,)\n"
     ]
    }
   ],
   "source": [
    "array_1D = np.arange(0, 100, 5)\n",
    "print(array_1D)\n",
    "print(array_1D.size)\n",
    "print(f'array_1D.shape, {array_1D.shape}')"
   ]
  },
  {
   "cell_type": "code",
   "execution_count": 8,
   "id": "c97661dc-4c14-455d-ad5f-51d5fe203428",
   "metadata": {},
   "outputs": [
    {
     "data": {
      "text/plain": [
       "20"
      ]
     },
     "execution_count": 8,
     "metadata": {},
     "output_type": "execute_result"
    }
   ],
   "source": [
    "array_1D.size"
   ]
  },
  {
   "cell_type": "code",
   "execution_count": 15,
   "id": "ef3edcd1-2a3c-41e4-b1db-7fc87c7f2131",
   "metadata": {},
   "outputs": [
    {
     "data": {
      "text/plain": [
       "(20,)"
      ]
     },
     "execution_count": 15,
     "metadata": {},
     "output_type": "execute_result"
    }
   ],
   "source": [
    "array_1D.shape # 모양은 (x, y) , reshape( 행, 열) 이다\n"
   ]
  },
  {
   "cell_type": "code",
   "execution_count": 40,
   "id": "5ad4ff41-5d93-4d52-bb3f-ba692a1641aa",
   "metadata": {},
   "outputs": [
    {
     "name": "stdout",
     "output_type": "stream",
     "text": [
      "[[[ 0  5 10 15 20]\n",
      "  [25 30 35 40 45]]\n",
      "\n",
      " [[50 55 60 65 70]\n",
      "  [75 80 85 90 95]]]\n",
      "20\n",
      "(2, 2, 5)\n",
      "3\n"
     ]
    }
   ],
   "source": [
    "reshape_array_3D = array_1D.reshape(2, 2, 5)\n",
    "print(reshape_array_3D)\n",
    "print(reshape_array_3D.size)\n",
    "print(reshape_array_3D.shape)\n",
    "print(reshape_array_3D.ndim)\n"
   ]
  },
  {
   "cell_type": "markdown",
   "id": "e84155d9-84a3-4acb-859c-e4a9f90005c4",
   "metadata": {},
   "source": [
    "list 와 numpy 다른 수식계산 결과"
   ]
  },
  {
   "cell_type": "code",
   "execution_count": 41,
   "id": "1e133547-027b-4ea3-8019-6a70e9f22ffa",
   "metadata": {},
   "outputs": [],
   "source": [
    "data = [1, 2, 3]"
   ]
  },
  {
   "cell_type": "code",
   "execution_count": 43,
   "id": "cec8d86a-71ea-462d-9db9-7d5fc24286e4",
   "metadata": {},
   "outputs": [],
   "source": [
    "data = np.array(data)"
   ]
  },
  {
   "cell_type": "code",
   "execution_count": 44,
   "id": "32b2215b-4026-4601-9fcd-e114ad41bc3e",
   "metadata": {},
   "outputs": [
    {
     "data": {
      "text/plain": [
       "array([10, 20, 30])"
      ]
     },
     "execution_count": 44,
     "metadata": {},
     "output_type": "execute_result"
    }
   ],
   "source": [
    "data * 10"
   ]
  },
  {
   "cell_type": "code",
   "execution_count": null,
   "id": "11f52206-2d75-41f1-86ce-013a9ef29db2",
   "metadata": {},
   "outputs": [],
   "source": []
  },
  {
   "cell_type": "code",
   "execution_count": 50,
   "id": "9ac6306c-88c9-45ff-8dc9-f6d8e008b105",
   "metadata": {
    "tags": []
   },
   "outputs": [
    {
     "name": "stdout",
     "output_type": "stream",
     "text": [
      "[[2 2]\n",
      " [3 5]]\n",
      "[[ 0 -2]\n",
      " [-3 -3]]\n",
      "[[1 0]\n",
      " [0 4]]\n",
      "[[1.   0.  ]\n",
      " [0.   0.25]]\n"
     ]
    }
   ],
   "source": [
    "array1 = np.array([[1,0],\n",
    "                  [0,1]])\n",
    "array2 = np.array([[1,2],\n",
    "                  [3,4]])\n",
    "\n",
    "print(array1 + array2)\n",
    "print(array1 - array2)\n",
    "print(array1 * array2)\n",
    "print(array1 / array2)"
   ]
  },
  {
   "cell_type": "markdown",
   "id": "b9a640ec-1224-43bf-963b-da38404e2aa5",
   "metadata": {},
   "source": [
    "행렬의 요소의 곱, 행렬의 곱셈(내적)"
   ]
  },
  {
   "cell_type": "code",
   "execution_count": 10,
   "id": "ceb0a827-ba12-45b4-94ab-5e53b980f699",
   "metadata": {},
   "outputs": [],
   "source": [
    "array1 = np.array([[1,0],\n",
    "[0,1]]) # 항등행렬\n",
    "array2 = np.array([[1,2],\n",
    "[3,4]])"
   ]
  },
  {
   "cell_type": "code",
   "execution_count": 11,
   "id": "748ef686-34a7-44db-9d21-4e25fa2a3a6a",
   "metadata": {},
   "outputs": [
    {
     "data": {
      "text/plain": [
       "array([[1, 0],\n",
       "       [0, 4]])"
      ]
     },
     "execution_count": 11,
     "metadata": {},
     "output_type": "execute_result"
    }
   ],
   "source": [
    "array1 * array2"
   ]
  },
  {
   "cell_type": "code",
   "execution_count": 13,
   "id": "8e04f3f4-0473-4f9f-800d-19fbaa05cc57",
   "metadata": {},
   "outputs": [
    {
     "data": {
      "text/plain": [
       "array([[1, 2],\n",
       "       [3, 4]])"
      ]
     },
     "execution_count": 14,
     "metadata": {},
     "output_type": "execute_result"
    }
   ],
   "source": [
    "np.dot(array1, arry2)"
   ]
  },
  {
   "cell_type": "markdown",
   "id": "438ed8a7-0550-4f8c-ae56-f4a3c46d0944",
   "metadata": {},
   "source": [
    "10  12    1 0 \n",
    "01  34  = 0 4"
   ]
  },
  {
   "cell_type": "code",
   "execution_count": 51,
   "id": "cc1283b7-46d2-4004-9a8c-fd66a1cc2447",
   "metadata": {},
   "outputs": [
    {
     "data": {
      "text/plain": [
       "array([[1, 2],\n",
       "       [3, 4]])"
      ]
     },
     "execution_count": 51,
     "metadata": {},
     "output_type": "execute_result"
    }
   ],
   "source": [
    "np.dot(array1, array2)"
   ]
  },
  {
   "cell_type": "code",
   "execution_count": null,
   "id": "9262f92f-e41b-4ec3-9502-3cdef03791e3",
   "metadata": {},
   "outputs": [],
   "source": []
  },
  {
   "cell_type": "markdown",
   "id": "d38de250-90d9-4772-ab45-607e58c3de92",
   "metadata": {},
   "source": [
    "다차원 연산"
   ]
  },
  {
   "attachments": {
    "7111e5d0-a5c6-4031-aed4-ca003054bf76.png": {
     "image/png": "[encoded data removed]"
    }
   },
   "cell_type": "markdown",
   "id": "72284ba2-bfc3-4206-81b0-6b3e5e95e625",
   "metadata": {},
   "source": [
    "![image.png](attachment:7111e5d0-a5c6-4031-aed4-ca003054bf76.png)"
   ]
  },
  {
   "cell_type": "code",
   "execution_count": 16,
   "id": "4ebe246a-3772-48f4-94da-1079e0adea98",
   "metadata": {},
   "outputs": [
    {
     "data": {
      "text/plain": [
       "array([[ 1,  2,  3,  4],\n",
       "       [ 5,  6,  7,  8],\n",
       "       [ 9, 10, 11, 12]])"
      ]
     },
     "execution_count": 16,
     "metadata": {},
     "output_type": "execute_result"
    }
   ],
   "source": [
    "n3 = np.arange(1,13).reshape(3,4)  # 3행, 4열\n",
    "n3"
   ]
  },
  {
   "cell_type": "code",
   "execution_count": 55,
   "id": "0232252b-c12d-423c-b373-2336f184dae8",
   "metadata": {},
   "outputs": [
    {
     "data": {
      "text/plain": [
       "3.452052529534663"
      ]
     },
     "execution_count": 55,
     "metadata": {},
     "output_type": "execute_result"
    }
   ],
   "source": [
    "n3.std()"
   ]
  },
  {
   "cell_type": "code",
   "execution_count": 56,
   "id": "161b4743-f15f-4cb4-baef-2e37ed6209e2",
   "metadata": {},
   "outputs": [
    {
     "data": {
      "text/plain": [
       "11.916666666666666"
      ]
     },
     "execution_count": 56,
     "metadata": {},
     "output_type": "execute_result"
    }
   ],
   "source": [
    "n3.var()"
   ]
  },
  {
   "cell_type": "code",
   "execution_count": 17,
   "id": "435a20a9-0c09-4d4d-bfdc-4fc0550a8fd9",
   "metadata": {},
   "outputs": [
    {
     "data": {
      "text/plain": [
       "array([ 1,  3,  6, 10, 15, 21, 28, 36, 45, 55, 66, 78])"
      ]
     },
     "execution_count": 17,
     "metadata": {},
     "output_type": "execute_result"
    }
   ],
   "source": [
    "n3.cumsum() #누적합"
   ]
  },
  {
   "cell_type": "code",
   "execution_count": 18,
   "id": "d690658c-8cee-4e03-9c64-2d5c54098620",
   "metadata": {},
   "outputs": [
    {
     "data": {
      "text/plain": [
       "array([        1,         2,         6,        24,       120,       720,\n",
       "            5040,     40320,    362880,   3628800,  39916800, 479001600])"
      ]
     },
     "execution_count": 18,
     "metadata": {},
     "output_type": "execute_result"
    }
   ],
   "source": [
    "n3.cumprod() # 누적곱"
   ]
  },
  {
   "cell_type": "code",
   "execution_count": 22,
   "id": "4401a6a5-3c07-478f-9a9c-279656f5c591",
   "metadata": {},
   "outputs": [
    {
     "data": {
      "text/plain": [
       "array([15, 18, 21, 24])"
      ]
     },
     "execution_count": 22,
     "metadata": {},
     "output_type": "execute_result"
    }
   ],
   "source": [
    "n3.sum(axis = 0)  # 세로로 합"
   ]
  },
  {
   "cell_type": "code",
   "execution_count": 23,
   "id": "d1b40063-0dbf-4d27-853b-4cd6cb577ded",
   "metadata": {},
   "outputs": [
    {
     "data": {
      "text/plain": [
       "array([10, 26, 42])"
      ]
     },
     "execution_count": 23,
     "metadata": {},
     "output_type": "execute_result"
    }
   ],
   "source": [
    "n3.sum(axis = 1)  # 가로로 합"
   ]
  },
  {
   "cell_type": "code",
   "execution_count": 66,
   "id": "5cd68647-453d-410d-85f0-e04b9c4df58c",
   "metadata": {},
   "outputs": [
    {
     "data": {
      "text/plain": [
       "array([ 4,  8, 12])"
      ]
     },
     "execution_count": 66,
     "metadata": {},
     "output_type": "execute_result"
    }
   ],
   "source": [
    "n3.max(axis = 1)"
   ]
  },
  {
   "cell_type": "code",
   "execution_count": 67,
   "id": "822e5064-6b5e-4f63-affd-92766a2b6560",
   "metadata": {},
   "outputs": [
    {
     "data": {
      "text/plain": [
       "array([[ 1,  3,  6, 10],\n",
       "       [ 5, 11, 18, 26],\n",
       "       [ 9, 19, 30, 42]])"
      ]
     },
     "execution_count": 67,
     "metadata": {},
     "output_type": "execute_result"
    }
   ],
   "source": [
    "n3.cumsum(axis=1)"
   ]
  },
  {
   "cell_type": "code",
   "execution_count": null,
   "id": "ba11a3c3-f909-4abb-9b7f-ee3e8cff9369",
   "metadata": {},
   "outputs": [],
   "source": []
  },
  {
   "cell_type": "markdown",
   "id": "0967aa78-a5cf-4f68-9cdc-f89f48acd54a",
   "metadata": {},
   "source": [
    "## stack"
   ]
  },
  {
   "cell_type": "code",
   "execution_count": 69,
   "id": "ff3c9f50-bc00-4635-9d6e-1a122785c45b",
   "metadata": {},
   "outputs": [
    {
     "name": "stdout",
     "output_type": "stream",
     "text": [
      "[11 12 13 14 15]\n",
      "[41 42 43 44 45]\n"
     ]
    }
   ],
   "source": [
    "v1 = np.arange(11, 16)\n",
    "print(v1)\n",
    "v2 = v1 + 10\n",
    "v3 = v2 + 10\n",
    "v4 = v3 + 10\n",
    "print(v4)"
   ]
  },
  {
   "cell_type": "code",
   "execution_count": 25,
   "id": "c2653c5d-1677-4e24-a1a0-6e36b8a9fba1",
   "metadata": {},
   "outputs": [
    {
     "name": "stdout",
     "output_type": "stream",
     "text": [
      "[[11 12 13 14 15]\n",
      " [21 22 23 24 25]\n",
      " [31 32 33 34 35]\n",
      " [41 42 43 44 45]]\n"
     ]
    }
   ],
   "source": [
    "v1 = np.arange(11, 16)\n",
    "v2 = v1 + 10\n",
    "v3 = v2 + 10\n",
    "v4 = v3 + 10\n",
    "vstack1 = np.vstack((v1, v2, v3, v4))\n",
    "print(vstack1)"
   ]
  },
  {
   "cell_type": "code",
   "execution_count": null,
   "id": "001f2b8b-54a1-44f2-90c4-1aac7c34a71e",
   "metadata": {},
   "outputs": [],
   "source": []
  },
  {
   "cell_type": "code",
   "execution_count": 26,
   "id": "36d87c57-3562-4cbd-9466-f4fa22a2eebf",
   "metadata": {},
   "outputs": [
    {
     "name": "stdout",
     "output_type": "stream",
     "text": [
      "[[11 12 13 14 15]\n",
      " [21 22 23 24 25]]\n",
      "[[11 12 13 14 15]\n",
      " [21 22 23 24 25]\n",
      " [31 32 33 34 35]\n",
      " [41 42 43 44 45]]\n"
     ]
    }
   ],
   "source": [
    "vstack1 = np.vstack((v1, v2))\n",
    "print(vstack1)\n",
    "\n",
    "vstack2 = np.vstack((v1, v2, v3, v4))\n",
    "print(vstack2)"
   ]
  },
  {
   "cell_type": "code",
   "execution_count": 75,
   "id": "f9b1ed37-c64c-4c82-bc9c-6feb93bbf1dc",
   "metadata": {},
   "outputs": [
    {
     "data": {
      "text/plain": [
       "(5,)"
      ]
     },
     "execution_count": 75,
     "metadata": {},
     "output_type": "execute_result"
    }
   ],
   "source": [
    "v1.shape"
   ]
  },
  {
   "cell_type": "code",
   "execution_count": 77,
   "id": "acdaf266-c7f9-48c7-b660-6b41296cc9de",
   "metadata": {},
   "outputs": [
    {
     "data": {
      "text/plain": [
       "(4, 5)"
      ]
     },
     "execution_count": 77,
     "metadata": {},
     "output_type": "execute_result"
    }
   ],
   "source": [
    "vstack2.shape"
   ]
  },
  {
   "cell_type": "code",
   "execution_count": null,
   "id": "ccb4d4d3-f6c6-40fd-b388-7f5a0feb724c",
   "metadata": {},
   "outputs": [],
   "source": []
  },
  {
   "cell_type": "code",
   "execution_count": 78,
   "id": "66552477-2878-4828-8001-80244c80a2c0",
   "metadata": {},
   "outputs": [
    {
     "data": {
      "text/plain": [
       "23"
      ]
     },
     "execution_count": 78,
     "metadata": {},
     "output_type": "execute_result"
    }
   ],
   "source": [
    "vstack2[1][2]"
   ]
  },
  {
   "cell_type": "code",
   "execution_count": 79,
   "id": "c529977f-8839-4e3d-9ed1-936bfc7ba2e5",
   "metadata": {},
   "outputs": [
    {
     "data": {
      "text/plain": [
       "23"
      ]
     },
     "execution_count": 79,
     "metadata": {},
     "output_type": "execute_result"
    }
   ],
   "source": [
    "vstack2[1,2]"
   ]
  },
  {
   "cell_type": "code",
   "execution_count": 80,
   "id": "d5970268-8b86-42f2-ba15-34d244de19f7",
   "metadata": {},
   "outputs": [],
   "source": [
    "v = vstack2"
   ]
  },
  {
   "cell_type": "code",
   "execution_count": 83,
   "id": "a26b0a44-ce82-447d-ae64-9dc50861dfcf",
   "metadata": {},
   "outputs": [
    {
     "data": {
      "text/plain": [
       "array([22, 32])"
      ]
     },
     "execution_count": 83,
     "metadata": {},
     "output_type": "execute_result"
    }
   ],
   "source": [
    "v[1:3, 1]"
   ]
  },
  {
   "cell_type": "code",
   "execution_count": 84,
   "id": "1adbd5cd-b59e-4261-b4f8-d3d2f4bd4acf",
   "metadata": {},
   "outputs": [
    {
     "data": {
      "text/plain": [
       "array([21, 22, 23, 24, 25])"
      ]
     },
     "execution_count": 84,
     "metadata": {},
     "output_type": "execute_result"
    }
   ],
   "source": [
    "v[1, :]"
   ]
  },
  {
   "cell_type": "code",
   "execution_count": null,
   "id": "7afa09d7-92e5-4c2a-8e41-f694ebbe9199",
   "metadata": {},
   "outputs": [],
   "source": []
  },
  {
   "cell_type": "code",
   "execution_count": 32,
   "id": "0ed0e13c-894a-4bd0-a5a5-b587934717e9",
   "metadata": {},
   "outputs": [],
   "source": [
    "v = np.array([[11, 12, 13, 14, 15],\n",
    "              [21, 22, 23, 24, 25],\n",
    "              [31, 32, 33, 34, 35],\n",
    "              [41, 42, 43, 44, 45]])"
   ]
  },
  {
   "cell_type": "code",
   "execution_count": 37,
   "id": "ede3e72b-1760-4109-be52-d9a2e0d09639",
   "metadata": {},
   "outputs": [
    {
     "name": "stdout",
     "output_type": "stream",
     "text": [
      "[33 34]\n",
      "[14 24 34 44]\n",
      "[[23 24]\n",
      " [33 34]]\n"
     ]
    },
    {
     "data": {
      "text/plain": [
       "array([[23, 24],\n",
       "       [33, 34]])"
      ]
     },
     "execution_count": 37,
     "metadata": {},
     "output_type": "execute_result"
    }
   ],
   "source": [
    "print(v[2, 2:4]) # 33, 34\n",
    "\n",
    "print(v[:, 3])   # 14, 24, 34, 44\n",
    "\n",
    "print(v[1:3, 2:4]) # 23, 24\n",
    "                   # 33, 34\n",
    "v[1:3]             # 21, ~  25 , 31 ~ 35\n",
    "\n",
    "v[1:3, 2:4]"
   ]
  },
  {
   "cell_type": "markdown",
   "id": "ffb40015-93f8-4e2a-bfc2-25e116a9feef",
   "metadata": {},
   "source": [
    "# 조건연산(중요)"
   ]
  },
  {
   "cell_type": "code",
   "execution_count": 39,
   "id": "92c42fc8-393c-4eed-9017-f78fc189e404",
   "metadata": {},
   "outputs": [
    {
     "data": {
      "text/plain": [
       "array([False,  True,  True])"
      ]
     },
     "execution_count": 39,
     "metadata": {},
     "output_type": "execute_result"
    }
   ],
   "source": [
    "arr = np.array([10, 20, 30])\n",
    "arr > 10"
   ]
  },
  {
   "cell_type": "code",
   "execution_count": 40,
   "id": "62081b66-c917-4166-8c14-6a0477545358",
   "metadata": {},
   "outputs": [
    {
     "data": {
      "text/plain": [
       "array([20, 30])"
      ]
     },
     "execution_count": 40,
     "metadata": {},
     "output_type": "execute_result"
    }
   ],
   "source": [
    "arr[arr > 10]  # 조건True 인것만 추출"
   ]
  },
  {
   "cell_type": "code",
   "execution_count": 120,
   "id": "8188d03b-d573-4172-8ecf-586a4b9f2b9b",
   "metadata": {},
   "outputs": [
    {
     "data": {
      "text/plain": [
       "array([20])"
      ]
     },
     "execution_count": 120,
     "metadata": {},
     "output_type": "execute_result"
    }
   ],
   "source": [
    "arr[(arr > 10) & (arr <30)]"
   ]
  },
  {
   "cell_type": "code",
   "execution_count": 41,
   "id": "35a2cd8d-c0f2-472a-9e40-c8356b3c36c4",
   "metadata": {},
   "outputs": [
    {
     "data": {
      "text/plain": [
       "array([10])"
      ]
     },
     "execution_count": 41,
     "metadata": {},
     "output_type": "execute_result"
    }
   ],
   "source": [
    "arr\n",
    "condition = arr > 10\n",
    "arr[~condition]    # ~ : 역으로"
   ]
  },
  {
   "cell_type": "code",
   "execution_count": 124,
   "id": "fd09f241-1954-435b-be01-863f0f0e610c",
   "metadata": {},
   "outputs": [
    {
     "name": "stdout",
     "output_type": "stream",
     "text": [
      "[10 20 30]\n"
     ]
    }
   ],
   "source": [
    "print(arr)"
   ]
  },
  {
   "cell_type": "code",
   "execution_count": 125,
   "id": "6dd0fa35-0020-42da-a992-e6c87ef0fcc4",
   "metadata": {},
   "outputs": [
    {
     "data": {
      "text/plain": [
       "array([0, 1, 1])"
      ]
     },
     "execution_count": 125,
     "metadata": {},
     "output_type": "execute_result"
    }
   ],
   "source": [
    "arr2 = np.where(arr>10, 1, 0) # where: 조건문\n",
    "arr2"
   ]
  },
  {
   "cell_type": "code",
   "execution_count": 44,
   "id": "1837af03-cd9f-483e-a906-90ec82164149",
   "metadata": {},
   "outputs": [
    {
     "data": {
      "text/plain": [
       "array(['no', 'yes', 'yes'], dtype='<U3')"
      ]
     },
     "execution_count": 44,
     "metadata": {},
     "output_type": "execute_result"
    }
   ],
   "source": [
    "arr2 = np.where(arr>10, 'yes', 'no')\n",
    "arr2"
   ]
  },
  {
   "cell_type": "code",
   "execution_count": 127,
   "id": "40e5851c-1ea7-4c96-b0f8-b0aa703d208e",
   "metadata": {},
   "outputs": [
    {
     "data": {
      "text/plain": [
       "array([ 0, 30, 40])"
      ]
     },
     "execution_count": 127,
     "metadata": {},
     "output_type": "execute_result"
    }
   ],
   "source": [
    "arr3 = np.where(arr>10, arr+10, arr-10)\n",
    "arr3"
   ]
  },
  {
   "cell_type": "code",
   "execution_count": null,
   "id": "91265f02-836d-4eee-b8b2-3f86d3d55356",
   "metadata": {},
   "outputs": [],
   "source": []
  },
  {
   "cell_type": "markdown",
   "id": "c585be91-bf58-4759-8145-914e76160e8d",
   "metadata": {},
   "source": [
    "## Pandas"
   ]
  },
  {
   "cell_type": "markdown",
   "id": "8899bcb2-bb35-486f-9d8b-02dd61f2b650",
   "metadata": {},
   "source": [
    "### Series"
   ]
  },
  {
   "cell_type": "code",
   "execution_count": 129,
   "id": "27bc49fe-7cc2-4ed7-a98d-a40480a84742",
   "metadata": {},
   "outputs": [],
   "source": [
    "import pandas as pd"
   ]
  },
  {
   "cell_type": "markdown",
   "id": "35bde483-fbe3-407f-9497-ab02f51d61f9",
   "metadata": {},
   "source": [
    "시리즈가 모여서 데이터 프레임이 되었다. <br>\n",
    "강사님 자료 appendix 참고!"
   ]
  },
  {
   "cell_type": "markdown",
   "id": "0f67d7c6-b92d-4d99-8dce-ac3e22c52e16",
   "metadata": {},
   "source": [
    "#### datetime"
   ]
  },
  {
   "cell_type": "code",
   "execution_count": 130,
   "id": "6946f0e9-f950-468e-af93-14ba71dcbc2e",
   "metadata": {},
   "outputs": [
    {
     "data": {
      "text/plain": [
       "DatetimeIndex(['2022-01-31', '2022-02-28', '2022-03-31', '2022-04-30',\n",
       "               '2022-05-31', '2022-06-30', '2022-07-31', '2022-08-31',\n",
       "               '2022-09-30', '2022-10-31', '2022-11-30', '2022-12-31'],\n",
       "              dtype='datetime64[ns]', freq='M')"
      ]
     },
     "execution_count": 130,
     "metadata": {},
     "output_type": "execute_result"
    }
   ],
   "source": [
    "pd.date_range('2022-01-01', '2023-01-01', freq = 'M')"
   ]
  },
  {
   "cell_type": "code",
   "execution_count": null,
   "id": "06937470-40b7-4200-8ee5-5c6aebeef80b",
   "metadata": {},
   "outputs": [],
   "source": []
  },
  {
   "cell_type": "code",
   "execution_count": 131,
   "id": "51be7de3-c16e-4ca2-b3b7-52cfe79fd4bc",
   "metadata": {},
   "outputs": [
    {
     "data": {
      "text/plain": [
       "DatetimeIndex(['2022-01-01', '2022-02-01', '2022-03-01', '2022-04-01',\n",
       "               '2022-05-01', '2022-06-01', '2022-07-01', '2022-08-01',\n",
       "               '2022-09-01', '2022-10-01', '2022-11-01', '2022-12-01',\n",
       "               '2023-01-01'],\n",
       "              dtype='datetime64[ns]', freq='MS')"
      ]
     },
     "execution_count": 131,
     "metadata": {},
     "output_type": "execute_result"
    }
   ],
   "source": [
    "pd.date_range('2022-01-01', '2023-01-01', freq = 'MS')"
   ]
  },
  {
   "cell_type": "code",
   "execution_count": 135,
   "id": "4dee180e-2de3-4eef-90ef-1557d76279d7",
   "metadata": {},
   "outputs": [
    {
     "data": {
      "text/plain": [
       "DatetimeIndex(['2023-01-01', '2023-01-02', '2023-01-03'], dtype='datetime64[ns]', freq='D')"
      ]
     },
     "execution_count": 135,
     "metadata": {},
     "output_type": "execute_result"
    }
   ],
   "source": [
    "prices = [1000, 1010, 1020]\n",
    "dates = pd.date_range('20230101', periods = 3)  # 중요!\n",
    "dates"
   ]
  },
  {
   "cell_type": "code",
   "execution_count": 139,
   "id": "105e74ed-7e90-448a-a0cc-796946074d62",
   "metadata": {},
   "outputs": [
    {
     "data": {
      "text/plain": [
       "2023-01-01    1000\n",
       "2023-01-02    1010\n",
       "2023-01-03    1020\n",
       "Freq: D, dtype: int64"
      ]
     },
     "execution_count": 139,
     "metadata": {},
     "output_type": "execute_result"
    }
   ],
   "source": [
    "Series1 = pd.Series(prices, index = dates) #(Series는 무조건대분자)\n",
    "Series1"
   ]
  },
  {
   "cell_type": "code",
   "execution_count": 141,
   "id": "67d1ee7a-fe15-491c-bc62-50534bc3752a",
   "metadata": {},
   "outputs": [
    {
     "data": {
      "text/plain": [
       "2023-01-01    1000\n",
       "2023-01-02    1010\n",
       "2023-01-03    1020\n",
       "2023-01-04    1030\n",
       "Freq: D, dtype: int64"
      ]
     },
     "execution_count": 141,
     "metadata": {},
     "output_type": "execute_result"
    }
   ],
   "source": [
    "Series1['2023-01-04'] = 1030\n",
    "Series1"
   ]
  },
  {
   "cell_type": "code",
   "execution_count": 142,
   "id": "75f0c127-9ff9-4e84-9e11-672fb6d05d9c",
   "metadata": {},
   "outputs": [
    {
     "data": {
      "text/plain": [
       "2023-01-02    1010\n",
       "2023-01-03    1020\n",
       "Freq: D, dtype: int64"
      ]
     },
     "execution_count": 142,
     "metadata": {},
     "output_type": "execute_result"
    }
   ],
   "source": [
    "Series1[1:3]"
   ]
  },
  {
   "cell_type": "code",
   "execution_count": 144,
   "id": "931f44b9-67a9-4f87-b705-586f2fdbd414",
   "metadata": {},
   "outputs": [
    {
     "data": {
      "text/plain": [
       "1010"
      ]
     },
     "execution_count": 144,
     "metadata": {},
     "output_type": "execute_result"
    }
   ],
   "source": [
    "Series1['2023-01-02']  # 딕셔너리처럼 불러올수 있다.(인덱스)"
   ]
  },
  {
   "cell_type": "code",
   "execution_count": 149,
   "id": "7dccb75f-9dee-4f2f-ab25-6e4a94154ccc",
   "metadata": {},
   "outputs": [
    {
     "data": {
      "text/plain": [
       "0    1000\n",
       "1    1010\n",
       "2    1020\n",
       "dtype: int64"
      ]
     },
     "execution_count": 149,
     "metadata": {},
     "output_type": "execute_result"
    }
   ],
   "source": [
    "Series2 = pd.Series(prices)\n",
    "Series2"
   ]
  },
  {
   "cell_type": "code",
   "execution_count": 151,
   "id": "32425daa-eacd-4036-b4e8-cdac04817a6e",
   "metadata": {},
   "outputs": [],
   "source": [
    "Series2[3] = 1030"
   ]
  },
  {
   "cell_type": "code",
   "execution_count": null,
   "id": "174d9fda-c6c9-4a92-9e3d-120f797eb7db",
   "metadata": {},
   "outputs": [],
   "source": []
  },
  {
   "cell_type": "markdown",
   "id": "6784b4dd-8df4-4714-a132-9b23a7a87796",
   "metadata": {},
   "source": [
    "### DataFrame"
   ]
  },
  {
   "cell_type": "markdown",
   "id": "0455a352-d9bb-461b-b338-781582a300df",
   "metadata": {},
   "source": [
    "생성"
   ]
  },
  {
   "cell_type": "code",
   "execution_count": 158,
   "id": "e22223ac-4919-4618-b5dc-0aff50853c31",
   "metadata": {},
   "outputs": [
    {
     "data": {
      "text/html": [
       "<div>\n",
       "<style scoped>\n",
       "    .dataframe tbody tr th:only-of-type {\n",
       "        vertical-align: middle;\n",
       "    }\n",
       "\n",
       "    .dataframe tbody tr th {\n",
       "        vertical-align: top;\n",
       "    }\n",
       "\n",
       "    .dataframe thead th {\n",
       "        text-align: right;\n",
       "    }\n",
       "</style>\n",
       "<table border=\"1\" class=\"dataframe\">\n",
       "  <thead>\n",
       "    <tr style=\"text-align: right;\">\n",
       "      <th></th>\n",
       "      <th>A텔레콤</th>\n",
       "      <th>B전자</th>\n",
       "      <th>C은행</th>\n",
       "    </tr>\n",
       "  </thead>\n",
       "  <tbody>\n",
       "    <tr>\n",
       "      <th>0</th>\n",
       "      <td>48000</td>\n",
       "      <td>60000</td>\n",
       "      <td>54000</td>\n",
       "    </tr>\n",
       "    <tr>\n",
       "      <th>1</th>\n",
       "      <td>48500</td>\n",
       "      <td>61000</td>\n",
       "      <td>55000</td>\n",
       "    </tr>\n",
       "    <tr>\n",
       "      <th>2</th>\n",
       "      <td>49000</td>\n",
       "      <td>62000</td>\n",
       "      <td>56000</td>\n",
       "    </tr>\n",
       "  </tbody>\n",
       "</table>\n",
       "</div>"
      ],
      "text/plain": [
       "    A텔레콤    B전자    C은행\n",
       "0  48000  60000  54000\n",
       "1  48500  61000  55000\n",
       "2  49000  62000  56000"
      ]
     },
     "execution_count": 158,
     "metadata": {},
     "output_type": "execute_result"
    }
   ],
   "source": [
    "prices = {\n",
    "    'A텔레콤' : [48000, 48500 , 49000],\n",
    "    'B전자' : [60000, 61000, 62000],\n",
    "    'C은행' : [54000, 55000, 56000]\n",
    "}\n",
    "\n",
    "df1 = pd.DataFrame(prices)\n",
    "df1"
   ]
  },
  {
   "cell_type": "code",
   "execution_count": 159,
   "id": "3bb11881-015b-409b-bef9-c3b3b1a7ffed",
   "metadata": {},
   "outputs": [
    {
     "data": {
      "text/plain": [
       "DatetimeIndex(['2023-01-02', '2023-01-03', '2023-01-04'], dtype='datetime64[ns]', freq='D')"
      ]
     },
     "execution_count": 159,
     "metadata": {},
     "output_type": "execute_result"
    }
   ],
   "source": [
    "dates = pd.date_range('2023-01-02', periods = 3)\n",
    "dates"
   ]
  },
  {
   "cell_type": "code",
   "execution_count": 160,
   "id": "4ef0dc69-c352-4451-9c73-cb76d30b101f",
   "metadata": {},
   "outputs": [
    {
     "data": {
      "text/html": [
       "<div>\n",
       "<style scoped>\n",
       "    .dataframe tbody tr th:only-of-type {\n",
       "        vertical-align: middle;\n",
       "    }\n",
       "\n",
       "    .dataframe tbody tr th {\n",
       "        vertical-align: top;\n",
       "    }\n",
       "\n",
       "    .dataframe thead th {\n",
       "        text-align: right;\n",
       "    }\n",
       "</style>\n",
       "<table border=\"1\" class=\"dataframe\">\n",
       "  <thead>\n",
       "    <tr style=\"text-align: right;\">\n",
       "      <th></th>\n",
       "      <th>A텔레콤</th>\n",
       "      <th>B전자</th>\n",
       "      <th>C은행</th>\n",
       "    </tr>\n",
       "  </thead>\n",
       "  <tbody>\n",
       "    <tr>\n",
       "      <th>2023-01-02</th>\n",
       "      <td>48000</td>\n",
       "      <td>60000</td>\n",
       "      <td>54000</td>\n",
       "    </tr>\n",
       "    <tr>\n",
       "      <th>2023-01-03</th>\n",
       "      <td>48500</td>\n",
       "      <td>61000</td>\n",
       "      <td>55000</td>\n",
       "    </tr>\n",
       "    <tr>\n",
       "      <th>2023-01-04</th>\n",
       "      <td>49000</td>\n",
       "      <td>62000</td>\n",
       "      <td>56000</td>\n",
       "    </tr>\n",
       "  </tbody>\n",
       "</table>\n",
       "</div>"
      ],
      "text/plain": [
       "             A텔레콤    B전자    C은행\n",
       "2023-01-02  48000  60000  54000\n",
       "2023-01-03  48500  61000  55000\n",
       "2023-01-04  49000  62000  56000"
      ]
     },
     "execution_count": 160,
     "metadata": {},
     "output_type": "execute_result"
    }
   ],
   "source": [
    "df2 = pd.DataFrame(prices, index = dates)\n",
    "df2"
   ]
  },
  {
   "cell_type": "markdown",
   "id": "d8e5972c-27ce-45af-ae58-95370995605a",
   "metadata": {},
   "source": [
    "### iloc, loc의 차이점과 사용법"
   ]
  },
  {
   "cell_type": "markdown",
   "id": "e063651d-ba40-47c9-a0be-3e4d5f8a630a",
   "metadata": {},
   "source": [
    "- iloc : 데이터 번호\n",
    "- loc : index, column으로 가져옴"
   ]
  },
  {
   "cell_type": "code",
   "execution_count": 161,
   "id": "50471805-4bd7-43a7-9da9-c175dc28b7b3",
   "metadata": {},
   "outputs": [
    {
     "data": {
      "text/plain": [
       "A텔레콤    48000\n",
       "B전자     60000\n",
       "C은행     54000\n",
       "Name: 2023-01-02 00:00:00, dtype: int64"
      ]
     },
     "execution_count": 161,
     "metadata": {},
     "output_type": "execute_result"
    }
   ],
   "source": [
    "df2.iloc[0]"
   ]
  },
  {
   "cell_type": "code",
   "execution_count": 162,
   "id": "51f60675-19cd-4d08-8db5-7434466ddad0",
   "metadata": {},
   "outputs": [
    {
     "data": {
      "text/plain": [
       "2023-01-02    48000\n",
       "2023-01-03    48500\n",
       "2023-01-04    49000\n",
       "Freq: D, Name: A텔레콤, dtype: int64"
      ]
     },
     "execution_count": 162,
     "metadata": {},
     "output_type": "execute_result"
    }
   ],
   "source": [
    "df2.iloc[: ,0]"
   ]
  },
  {
   "cell_type": "code",
   "execution_count": 165,
   "id": "b20a34fe-9812-4587-afe9-6c605fa4f319",
   "metadata": {},
   "outputs": [
    {
     "data": {
      "text/plain": [
       "48000"
      ]
     },
     "execution_count": 165,
     "metadata": {},
     "output_type": "execute_result"
    }
   ],
   "source": [
    "df2.iloc[0, 0]  # 혼자 찾기"
   ]
  },
  {
   "cell_type": "code",
   "execution_count": 166,
   "id": "a912c6e1-56ed-4459-9c5b-6579c99c4866",
   "metadata": {},
   "outputs": [
    {
     "data": {
      "text/plain": [
       "48000"
      ]
     },
     "execution_count": 166,
     "metadata": {},
     "output_type": "execute_result"
    }
   ],
   "source": [
    "df2.loc['2023-01-02', 'A텔레콤']"
   ]
  },
  {
   "cell_type": "code",
   "execution_count": 167,
   "id": "2d966abf-2fdb-4c0f-a510-7aacebe1f7df",
   "metadata": {},
   "outputs": [
    {
     "data": {
      "text/plain": [
       "A텔레콤    48000\n",
       "B전자     60000\n",
       "C은행     54000\n",
       "Name: 2023-01-02 00:00:00, dtype: int64"
      ]
     },
     "execution_count": 167,
     "metadata": {},
     "output_type": "execute_result"
    }
   ],
   "source": [
    "df2.loc['2023-01-02']"
   ]
  },
  {
   "cell_type": "code",
   "execution_count": 170,
   "id": "52ec6aa4-63d3-4126-9e0e-1a5ab0658cbf",
   "metadata": {},
   "outputs": [
    {
     "data": {
      "text/plain": [
       "2023-01-02    48000\n",
       "2023-01-03    48500\n",
       "2023-01-04    49000\n",
       "Freq: D, Name: A텔레콤, dtype: int64"
      ]
     },
     "execution_count": 170,
     "metadata": {},
     "output_type": "execute_result"
    }
   ],
   "source": [
    "df2.loc[:,'A텔레콤']"
   ]
  },
  {
   "cell_type": "code",
   "execution_count": null,
   "id": "2ab85346-a905-4ebd-b34b-169825e48f5d",
   "metadata": {},
   "outputs": [],
   "source": []
  },
  {
   "cell_type": "code",
   "execution_count": 171,
   "id": "6cdd3f95-afb7-487a-b206-980d2036e081",
   "metadata": {},
   "outputs": [
    {
     "data": {
      "text/html": [
       "<div>\n",
       "<style scoped>\n",
       "    .dataframe tbody tr th:only-of-type {\n",
       "        vertical-align: middle;\n",
       "    }\n",
       "\n",
       "    .dataframe tbody tr th {\n",
       "        vertical-align: top;\n",
       "    }\n",
       "\n",
       "    .dataframe thead th {\n",
       "        text-align: right;\n",
       "    }\n",
       "</style>\n",
       "<table border=\"1\" class=\"dataframe\">\n",
       "  <thead>\n",
       "    <tr style=\"text-align: right;\">\n",
       "      <th></th>\n",
       "      <th>A텔레콤</th>\n",
       "      <th>B전자</th>\n",
       "      <th>C은행</th>\n",
       "    </tr>\n",
       "  </thead>\n",
       "  <tbody>\n",
       "    <tr>\n",
       "      <th>2023-01-02</th>\n",
       "      <td>48000</td>\n",
       "      <td>60000</td>\n",
       "      <td>54000</td>\n",
       "    </tr>\n",
       "    <tr>\n",
       "      <th>2023-01-03</th>\n",
       "      <td>48500</td>\n",
       "      <td>61000</td>\n",
       "      <td>55000</td>\n",
       "    </tr>\n",
       "    <tr>\n",
       "      <th>2023-01-04</th>\n",
       "      <td>49000</td>\n",
       "      <td>62000</td>\n",
       "      <td>56000</td>\n",
       "    </tr>\n",
       "  </tbody>\n",
       "</table>\n",
       "</div>"
      ],
      "text/plain": [
       "             A텔레콤    B전자    C은행\n",
       "2023-01-02  48000  60000  54000\n",
       "2023-01-03  48500  61000  55000\n",
       "2023-01-04  49000  62000  56000"
      ]
     },
     "execution_count": 171,
     "metadata": {},
     "output_type": "execute_result"
    }
   ],
   "source": [
    "df2"
   ]
  },
  {
   "cell_type": "code",
   "execution_count": 172,
   "id": "2aeeeb14-d842-482e-8ed3-7c3b702260de",
   "metadata": {},
   "outputs": [
    {
     "data": {
      "text/plain": [
       "2023-01-02    48000\n",
       "2023-01-03    48500\n",
       "2023-01-04    49000\n",
       "Freq: D, Name: A텔레콤, dtype: int64"
      ]
     },
     "execution_count": 172,
     "metadata": {},
     "output_type": "execute_result"
    }
   ],
   "source": [
    "df2['A텔레콤']"
   ]
  },
  {
   "cell_type": "code",
   "execution_count": 173,
   "id": "7637b35f-c086-4354-855b-2c97a7c4767e",
   "metadata": {},
   "outputs": [
    {
     "data": {
      "text/plain": [
       "2023-01-02    48000\n",
       "2023-01-03    48500\n",
       "2023-01-04    49000\n",
       "Freq: D, Name: A텔레콤, dtype: int64"
      ]
     },
     "execution_count": 173,
     "metadata": {},
     "output_type": "execute_result"
    }
   ],
   "source": [
    "df2.A텔레콤"
   ]
  },
  {
   "cell_type": "code",
   "execution_count": 174,
   "id": "220fdfd0-524c-420b-a759-0744fabda632",
   "metadata": {},
   "outputs": [
    {
     "data": {
      "text/plain": [
       "48500"
      ]
     },
     "execution_count": 174,
     "metadata": {},
     "output_type": "execute_result"
    }
   ],
   "source": [
    "df2['A텔레콤']['2023-01-03']"
   ]
  },
  {
   "cell_type": "code",
   "execution_count": 175,
   "id": "5c586d40-efc5-4a31-9ab3-77ec25e8242e",
   "metadata": {},
   "outputs": [
    {
     "data": {
      "text/plain": [
       "48500"
      ]
     },
     "execution_count": 175,
     "metadata": {},
     "output_type": "execute_result"
    }
   ],
   "source": [
    "df2.loc[:, 'A텔레콤']['2023-01-03']"
   ]
  },
  {
   "cell_type": "code",
   "execution_count": null,
   "id": "6c9e0469-e862-4776-a907-157fc4b9f7dc",
   "metadata": {},
   "outputs": [],
   "source": []
  },
  {
   "cell_type": "code",
   "execution_count": 176,
   "id": "6aa4af09-9eec-497c-a6a2-b74e636387e6",
   "metadata": {},
   "outputs": [
    {
     "data": {
      "text/html": [
       "<div>\n",
       "<style scoped>\n",
       "    .dataframe tbody tr th:only-of-type {\n",
       "        vertical-align: middle;\n",
       "    }\n",
       "\n",
       "    .dataframe tbody tr th {\n",
       "        vertical-align: top;\n",
       "    }\n",
       "\n",
       "    .dataframe thead th {\n",
       "        text-align: right;\n",
       "    }\n",
       "</style>\n",
       "<table border=\"1\" class=\"dataframe\">\n",
       "  <thead>\n",
       "    <tr style=\"text-align: right;\">\n",
       "      <th></th>\n",
       "      <th>A텔레콤</th>\n",
       "      <th>B전자</th>\n",
       "      <th>C은행</th>\n",
       "      <th>D철강</th>\n",
       "    </tr>\n",
       "  </thead>\n",
       "  <tbody>\n",
       "    <tr>\n",
       "      <th>2023-01-02</th>\n",
       "      <td>48000</td>\n",
       "      <td>60000</td>\n",
       "      <td>54000</td>\n",
       "      <td>5000</td>\n",
       "    </tr>\n",
       "    <tr>\n",
       "      <th>2023-01-03</th>\n",
       "      <td>48500</td>\n",
       "      <td>61000</td>\n",
       "      <td>55000</td>\n",
       "      <td>5100</td>\n",
       "    </tr>\n",
       "    <tr>\n",
       "      <th>2023-01-04</th>\n",
       "      <td>49000</td>\n",
       "      <td>62000</td>\n",
       "      <td>56000</td>\n",
       "      <td>5200</td>\n",
       "    </tr>\n",
       "  </tbody>\n",
       "</table>\n",
       "</div>"
      ],
      "text/plain": [
       "             A텔레콤    B전자    C은행   D철강\n",
       "2023-01-02  48000  60000  54000  5000\n",
       "2023-01-03  48500  61000  55000  5100\n",
       "2023-01-04  49000  62000  56000  5200"
      ]
     },
     "execution_count": 176,
     "metadata": {},
     "output_type": "execute_result"
    }
   ],
   "source": [
    "df2['D철강'] = 5000, 5100, 5200\n",
    "df2"
   ]
  },
  {
   "cell_type": "code",
   "execution_count": 183,
   "id": "c9567521-23a9-4f7b-83b1-6d4b2c7dec70",
   "metadata": {},
   "outputs": [
    {
     "data": {
      "text/html": [
       "<div>\n",
       "<style scoped>\n",
       "    .dataframe tbody tr th:only-of-type {\n",
       "        vertical-align: middle;\n",
       "    }\n",
       "\n",
       "    .dataframe tbody tr th {\n",
       "        vertical-align: top;\n",
       "    }\n",
       "\n",
       "    .dataframe thead th {\n",
       "        text-align: right;\n",
       "    }\n",
       "</style>\n",
       "<table border=\"1\" class=\"dataframe\">\n",
       "  <thead>\n",
       "    <tr style=\"text-align: right;\">\n",
       "      <th></th>\n",
       "      <th>B전자</th>\n",
       "      <th>C은행</th>\n",
       "    </tr>\n",
       "  </thead>\n",
       "  <tbody>\n",
       "    <tr>\n",
       "      <th>2023-01-03</th>\n",
       "      <td>61000</td>\n",
       "      <td>55000</td>\n",
       "    </tr>\n",
       "    <tr>\n",
       "      <th>2023-01-04</th>\n",
       "      <td>62000</td>\n",
       "      <td>56000</td>\n",
       "    </tr>\n",
       "  </tbody>\n",
       "</table>\n",
       "</div>"
      ],
      "text/plain": [
       "              B전자    C은행\n",
       "2023-01-03  61000  55000\n",
       "2023-01-04  62000  56000"
      ]
     },
     "execution_count": 183,
     "metadata": {},
     "output_type": "execute_result"
    }
   ],
   "source": [
    "df2.iloc[1:3, 1:3]  #아이번"
   ]
  },
  {
   "cell_type": "code",
   "execution_count": 184,
   "id": "fcd530ab-28b3-4c06-9a27-cbfb296e741d",
   "metadata": {},
   "outputs": [
    {
     "data": {
      "text/html": [
       "<div>\n",
       "<style scoped>\n",
       "    .dataframe tbody tr th:only-of-type {\n",
       "        vertical-align: middle;\n",
       "    }\n",
       "\n",
       "    .dataframe tbody tr th {\n",
       "        vertical-align: top;\n",
       "    }\n",
       "\n",
       "    .dataframe thead th {\n",
       "        text-align: right;\n",
       "    }\n",
       "</style>\n",
       "<table border=\"1\" class=\"dataframe\">\n",
       "  <thead>\n",
       "    <tr style=\"text-align: right;\">\n",
       "      <th></th>\n",
       "      <th>B전자</th>\n",
       "      <th>C은행</th>\n",
       "    </tr>\n",
       "  </thead>\n",
       "  <tbody>\n",
       "    <tr>\n",
       "      <th>2023-01-03</th>\n",
       "      <td>61000</td>\n",
       "      <td>55000</td>\n",
       "    </tr>\n",
       "    <tr>\n",
       "      <th>2023-01-04</th>\n",
       "      <td>62000</td>\n",
       "      <td>56000</td>\n",
       "    </tr>\n",
       "  </tbody>\n",
       "</table>\n",
       "</div>"
      ],
      "text/plain": [
       "              B전자    C은행\n",
       "2023-01-03  61000  55000\n",
       "2023-01-04  62000  56000"
      ]
     },
     "execution_count": 184,
     "metadata": {},
     "output_type": "execute_result"
    }
   ],
   "source": [
    "df2.loc['2023-01-03':, 'B전자':'C은행']  # 이름"
   ]
  },
  {
   "cell_type": "code",
   "execution_count": null,
   "id": "19adfbab-975c-4273-a165-4d74d49f465c",
   "metadata": {},
   "outputs": [],
   "source": []
  },
  {
   "cell_type": "code",
   "execution_count": 185,
   "id": "f35e52c0-c6d1-402d-b906-6741802a41d9",
   "metadata": {},
   "outputs": [
    {
     "data": {
      "text/html": [
       "<div>\n",
       "<style scoped>\n",
       "    .dataframe tbody tr th:only-of-type {\n",
       "        vertical-align: middle;\n",
       "    }\n",
       "\n",
       "    .dataframe tbody tr th {\n",
       "        vertical-align: top;\n",
       "    }\n",
       "\n",
       "    .dataframe thead th {\n",
       "        text-align: right;\n",
       "    }\n",
       "</style>\n",
       "<table border=\"1\" class=\"dataframe\">\n",
       "  <thead>\n",
       "    <tr style=\"text-align: right;\">\n",
       "      <th></th>\n",
       "      <th>A텔레콤</th>\n",
       "      <th>B전자</th>\n",
       "      <th>C은행</th>\n",
       "      <th>D철강</th>\n",
       "    </tr>\n",
       "  </thead>\n",
       "  <tbody>\n",
       "    <tr>\n",
       "      <th>2023-01-02</th>\n",
       "      <td>48000</td>\n",
       "      <td>60000</td>\n",
       "      <td>54000</td>\n",
       "      <td>5000</td>\n",
       "    </tr>\n",
       "    <tr>\n",
       "      <th>2023-01-03</th>\n",
       "      <td>48500</td>\n",
       "      <td>61000</td>\n",
       "      <td>55000</td>\n",
       "      <td>5100</td>\n",
       "    </tr>\n",
       "    <tr>\n",
       "      <th>2023-01-04</th>\n",
       "      <td>49000</td>\n",
       "      <td>62000</td>\n",
       "      <td>56000</td>\n",
       "      <td>5200</td>\n",
       "    </tr>\n",
       "  </tbody>\n",
       "</table>\n",
       "</div>"
      ],
      "text/plain": [
       "             A텔레콤    B전자    C은행   D철강\n",
       "2023-01-02  48000  60000  54000  5000\n",
       "2023-01-03  48500  61000  55000  5100\n",
       "2023-01-04  49000  62000  56000  5200"
      ]
     },
     "execution_count": 185,
     "metadata": {},
     "output_type": "execute_result"
    }
   ],
   "source": [
    "df2"
   ]
  },
  {
   "cell_type": "code",
   "execution_count": null,
   "id": "91e17de6-14bc-4fee-a7e2-6af061a66979",
   "metadata": {},
   "outputs": [],
   "source": [
    "# Q2. 61000 가져오기"
   ]
  },
  {
   "cell_type": "code",
   "execution_count": 190,
   "id": "010cc3c1-bd51-4857-b61a-08a8bab804ad",
   "metadata": {},
   "outputs": [
    {
     "data": {
      "text/plain": [
       "61000"
      ]
     },
     "execution_count": 190,
     "metadata": {},
     "output_type": "execute_result"
    }
   ],
   "source": [
    "df2.iloc[1, 1]"
   ]
  },
  {
   "cell_type": "code",
   "execution_count": 191,
   "id": "c2822fb5-4875-430d-9ff1-a7978b5a41ca",
   "metadata": {},
   "outputs": [
    {
     "data": {
      "text/plain": [
       "61000"
      ]
     },
     "execution_count": 191,
     "metadata": {},
     "output_type": "execute_result"
    }
   ],
   "source": [
    "df2.loc['2023-01-03', 'B전자']"
   ]
  },
  {
   "cell_type": "code",
   "execution_count": null,
   "id": "1077c544-1bfc-478a-95c4-12cb03e4b2e8",
   "metadata": {},
   "outputs": [],
   "source": []
  },
  {
   "cell_type": "markdown",
   "id": "d31a8d50-8266-4858-8ffa-de2bcb85bd74",
   "metadata": {},
   "source": [
    "### 데이터프레임 확장 \n",
    "- concat : 그냥 가져다가 붙이는 것\n",
    "- merge : 공통 된 칼럼이나 인덱스가 있는 경우, 결합"
   ]
  },
  {
   "attachments": {
    "7fb9db9c-bcb7-4c61-bdbf-65a6d396b3af.png": {
     "image/png": "[encoded data removed]"
    }
   },
   "cell_type": "markdown",
   "id": "f334d08f-4f7e-47c9-93b8-545e189932b0",
   "metadata": {},
   "source": [
    "![image.png](attachment:7fb9db9c-bcb7-4c61-bdbf-65a6d396b3af.png)"
   ]
  },
  {
   "cell_type": "code",
   "execution_count": null,
   "id": "0516151a-3b64-41b7-a04b-70fc8fc13675",
   "metadata": {},
   "outputs": [],
   "source": [
    "오직 ㅅㅎ이만"
   ]
  },
  {
   "cell_type": "code",
   "execution_count": 195,
   "id": "f7f59f85-e00e-483e-b0cc-1e4dcc80c17a",
   "metadata": {},
   "outputs": [
    {
     "data": {
      "text/html": [
       "<div>\n",
       "<style scoped>\n",
       "    .dataframe tbody tr th:only-of-type {\n",
       "        vertical-align: middle;\n",
       "    }\n",
       "\n",
       "    .dataframe tbody tr th {\n",
       "        vertical-align: top;\n",
       "    }\n",
       "\n",
       "    .dataframe thead th {\n",
       "        text-align: right;\n",
       "    }\n",
       "</style>\n",
       "<table border=\"1\" class=\"dataframe\">\n",
       "  <thead>\n",
       "    <tr style=\"text-align: right;\">\n",
       "      <th></th>\n",
       "      <th>A텔레콤</th>\n",
       "      <th>B전자</th>\n",
       "      <th>C은행</th>\n",
       "      <th>D철강</th>\n",
       "    </tr>\n",
       "  </thead>\n",
       "  <tbody>\n",
       "    <tr>\n",
       "      <th>2023-01-02</th>\n",
       "      <td>48000</td>\n",
       "      <td>60000</td>\n",
       "      <td>54000</td>\n",
       "      <td>5000</td>\n",
       "    </tr>\n",
       "    <tr>\n",
       "      <th>2023-01-03</th>\n",
       "      <td>48500</td>\n",
       "      <td>61000</td>\n",
       "      <td>55000</td>\n",
       "      <td>5100</td>\n",
       "    </tr>\n",
       "    <tr>\n",
       "      <th>2023-01-04</th>\n",
       "      <td>49000</td>\n",
       "      <td>62000</td>\n",
       "      <td>56000</td>\n",
       "      <td>5200</td>\n",
       "    </tr>\n",
       "  </tbody>\n",
       "</table>\n",
       "</div>"
      ],
      "text/plain": [
       "             A텔레콤    B전자    C은행   D철강\n",
       "2023-01-02  48000  60000  54000  5000\n",
       "2023-01-03  48500  61000  55000  5100\n",
       "2023-01-04  49000  62000  56000  5200"
      ]
     },
     "execution_count": 195,
     "metadata": {},
     "output_type": "execute_result"
    }
   ],
   "source": [
    "df2"
   ]
  },
  {
   "cell_type": "code",
   "execution_count": 197,
   "id": "97f23ddc-a55e-4009-91ea-e10f5e227ab0",
   "metadata": {},
   "outputs": [
    {
     "data": {
      "text/plain": [
       "0    3000\n",
       "1    3100\n",
       "2    3200\n",
       "3    3300\n",
       "Name: F화학, dtype: int64"
      ]
     },
     "execution_count": 197,
     "metadata": {},
     "output_type": "execute_result"
    }
   ],
   "source": [
    "s1 = pd.Series([3000, 3100, 3200, 3300])\n",
    "s1.name = 'F화학'\n",
    "s1"
   ]
  },
  {
   "cell_type": "code",
   "execution_count": 198,
   "id": "7a9a5abd-f653-4769-bea7-ab187e8d9935",
   "metadata": {},
   "outputs": [],
   "source": [
    "# 붙일려면 인덱스나 칼럼이 같아야하는데 그런걸 만들어줘야"
   ]
  },
  {
   "cell_type": "code",
   "execution_count": 225,
   "id": "cb3f4a6d-7981-437b-9522-37d131c6b2ae",
   "metadata": {},
   "outputs": [
    {
     "data": {
      "text/html": [
       "<div>\n",
       "<style scoped>\n",
       "    .dataframe tbody tr th:only-of-type {\n",
       "        vertical-align: middle;\n",
       "    }\n",
       "\n",
       "    .dataframe tbody tr th {\n",
       "        vertical-align: top;\n",
       "    }\n",
       "\n",
       "    .dataframe thead th {\n",
       "        text-align: right;\n",
       "    }\n",
       "</style>\n",
       "<table border=\"1\" class=\"dataframe\">\n",
       "  <thead>\n",
       "    <tr style=\"text-align: right;\">\n",
       "      <th></th>\n",
       "      <th>A텔레콤</th>\n",
       "      <th>B전자</th>\n",
       "      <th>C은행</th>\n",
       "      <th>D철강</th>\n",
       "    </tr>\n",
       "  </thead>\n",
       "  <tbody>\n",
       "    <tr>\n",
       "      <th>2023-01-02</th>\n",
       "      <td>48000</td>\n",
       "      <td>60000</td>\n",
       "      <td>54000</td>\n",
       "      <td>5000</td>\n",
       "    </tr>\n",
       "    <tr>\n",
       "      <th>2023-01-03</th>\n",
       "      <td>48500</td>\n",
       "      <td>61000</td>\n",
       "      <td>55000</td>\n",
       "      <td>5100</td>\n",
       "    </tr>\n",
       "    <tr>\n",
       "      <th>2023-01-04</th>\n",
       "      <td>49000</td>\n",
       "      <td>62000</td>\n",
       "      <td>56000</td>\n",
       "      <td>5200</td>\n",
       "    </tr>\n",
       "  </tbody>\n",
       "</table>\n",
       "</div>"
      ],
      "text/plain": [
       "             A텔레콤    B전자    C은행   D철강\n",
       "2023-01-02  48000  60000  54000  5000\n",
       "2023-01-03  48500  61000  55000  5100\n",
       "2023-01-04  49000  62000  56000  5200"
      ]
     },
     "execution_count": 225,
     "metadata": {},
     "output_type": "execute_result"
    }
   ],
   "source": [
    "df2"
   ]
  },
  {
   "cell_type": "code",
   "execution_count": null,
   "id": "26a3a83f-f7e0-48e5-8b4d-f57f98cb5558",
   "metadata": {},
   "outputs": [],
   "source": []
  },
  {
   "cell_type": "code",
   "execution_count": null,
   "id": "419d3754-7acc-42ee-94c6-b00a4e9d109e",
   "metadata": {},
   "outputs": [],
   "source": []
  },
  {
   "cell_type": "code",
   "execution_count": 251,
   "id": "a28ce4f4-6af3-4236-ba28-89b8999953b0",
   "metadata": {},
   "outputs": [],
   "source": [
    "dates = pd.date_range('2023-01-02', periods = 3)\n",
    "s1 = pd.Series([3000, 3100, 3200])\n",
    "s1.name = 'F화학'\n",
    "s1.index = dates"
   ]
  },
  {
   "cell_type": "code",
   "execution_count": 252,
   "id": "7269ee12-6812-4182-a2e6-f00c90e77925",
   "metadata": {},
   "outputs": [
    {
     "data": {
      "text/html": [
       "<div>\n",
       "<style scoped>\n",
       "    .dataframe tbody tr th:only-of-type {\n",
       "        vertical-align: middle;\n",
       "    }\n",
       "\n",
       "    .dataframe tbody tr th {\n",
       "        vertical-align: top;\n",
       "    }\n",
       "\n",
       "    .dataframe thead th {\n",
       "        text-align: right;\n",
       "    }\n",
       "</style>\n",
       "<table border=\"1\" class=\"dataframe\">\n",
       "  <thead>\n",
       "    <tr style=\"text-align: right;\">\n",
       "      <th></th>\n",
       "      <th>A텔레콤</th>\n",
       "      <th>B전자</th>\n",
       "      <th>C은행</th>\n",
       "      <th>D철강</th>\n",
       "      <th>F화학</th>\n",
       "    </tr>\n",
       "  </thead>\n",
       "  <tbody>\n",
       "    <tr>\n",
       "      <th>2023-01-02</th>\n",
       "      <td>48000</td>\n",
       "      <td>60000</td>\n",
       "      <td>54000</td>\n",
       "      <td>5000</td>\n",
       "      <td>3000</td>\n",
       "    </tr>\n",
       "    <tr>\n",
       "      <th>2023-01-03</th>\n",
       "      <td>48500</td>\n",
       "      <td>61000</td>\n",
       "      <td>55000</td>\n",
       "      <td>5100</td>\n",
       "      <td>3100</td>\n",
       "    </tr>\n",
       "    <tr>\n",
       "      <th>2023-01-04</th>\n",
       "      <td>49000</td>\n",
       "      <td>62000</td>\n",
       "      <td>56000</td>\n",
       "      <td>5200</td>\n",
       "      <td>3200</td>\n",
       "    </tr>\n",
       "  </tbody>\n",
       "</table>\n",
       "</div>"
      ],
      "text/plain": [
       "             A텔레콤    B전자    C은행   D철강   F화학\n",
       "2023-01-02  48000  60000  54000  5000  3000\n",
       "2023-01-03  48500  61000  55000  5100  3100\n",
       "2023-01-04  49000  62000  56000  5200  3200"
      ]
     },
     "execution_count": 252,
     "metadata": {},
     "output_type": "execute_result"
    }
   ],
   "source": [
    "concat_df2 = pd.concat([df2, s1], axis = 1)\n",
    "concat_df2"
   ]
  },
  {
   "cell_type": "code",
   "execution_count": 253,
   "id": "50116215-0657-4ba1-8c6d-5187840718c0",
   "metadata": {},
   "outputs": [
    {
     "data": {
      "text/html": [
       "<div>\n",
       "<style scoped>\n",
       "    .dataframe tbody tr th:only-of-type {\n",
       "        vertical-align: middle;\n",
       "    }\n",
       "\n",
       "    .dataframe tbody tr th {\n",
       "        vertical-align: top;\n",
       "    }\n",
       "\n",
       "    .dataframe thead th {\n",
       "        text-align: right;\n",
       "    }\n",
       "</style>\n",
       "<table border=\"1\" class=\"dataframe\">\n",
       "  <thead>\n",
       "    <tr style=\"text-align: right;\">\n",
       "      <th></th>\n",
       "      <th>A텔레콤</th>\n",
       "      <th>B전자</th>\n",
       "      <th>C은행</th>\n",
       "      <th>D철강</th>\n",
       "      <th>F화학</th>\n",
       "      <th>F화학_add500</th>\n",
       "    </tr>\n",
       "  </thead>\n",
       "  <tbody>\n",
       "    <tr>\n",
       "      <th>2023-01-02</th>\n",
       "      <td>48000</td>\n",
       "      <td>60000</td>\n",
       "      <td>54000</td>\n",
       "      <td>5000</td>\n",
       "      <td>3000</td>\n",
       "      <td>3500</td>\n",
       "    </tr>\n",
       "    <tr>\n",
       "      <th>2023-01-03</th>\n",
       "      <td>48500</td>\n",
       "      <td>61000</td>\n",
       "      <td>55000</td>\n",
       "      <td>5100</td>\n",
       "      <td>3100</td>\n",
       "      <td>3600</td>\n",
       "    </tr>\n",
       "    <tr>\n",
       "      <th>2023-01-04</th>\n",
       "      <td>49000</td>\n",
       "      <td>62000</td>\n",
       "      <td>56000</td>\n",
       "      <td>5200</td>\n",
       "      <td>3200</td>\n",
       "      <td>3700</td>\n",
       "    </tr>\n",
       "  </tbody>\n",
       "</table>\n",
       "</div>"
      ],
      "text/plain": [
       "             A텔레콤    B전자    C은행   D철강   F화학  F화학_add500\n",
       "2023-01-02  48000  60000  54000  5000  3000        3500\n",
       "2023-01-03  48500  61000  55000  5100  3100        3600\n",
       "2023-01-04  49000  62000  56000  5200  3200        3700"
      ]
     },
     "execution_count": 253,
     "metadata": {},
     "output_type": "execute_result"
    }
   ],
   "source": [
    "concat_df2['F화학_add500'] = concat_df2['F화학'] + 500\n",
    "concat_df2.head(6)"
   ]
  },
  {
   "cell_type": "code",
   "execution_count": 254,
   "id": "da9f6831-994b-46f0-b13c-02135beb150d",
   "metadata": {},
   "outputs": [
    {
     "data": {
      "text/html": [
       "<div>\n",
       "<style scoped>\n",
       "    .dataframe tbody tr th:only-of-type {\n",
       "        vertical-align: middle;\n",
       "    }\n",
       "\n",
       "    .dataframe tbody tr th {\n",
       "        vertical-align: top;\n",
       "    }\n",
       "\n",
       "    .dataframe thead th {\n",
       "        text-align: right;\n",
       "    }\n",
       "</style>\n",
       "<table border=\"1\" class=\"dataframe\">\n",
       "  <thead>\n",
       "    <tr style=\"text-align: right;\">\n",
       "      <th></th>\n",
       "      <th>A텔레콤</th>\n",
       "      <th>B전자</th>\n",
       "      <th>C은행</th>\n",
       "      <th>D철강</th>\n",
       "      <th>F화학</th>\n",
       "      <th>F화학_add500</th>\n",
       "    </tr>\n",
       "  </thead>\n",
       "  <tbody>\n",
       "    <tr>\n",
       "      <th>2023-01-02</th>\n",
       "      <td>48000.0</td>\n",
       "      <td>60000.0</td>\n",
       "      <td>54000.0</td>\n",
       "      <td>5000.0</td>\n",
       "      <td>3000.0</td>\n",
       "      <td>3500.0</td>\n",
       "    </tr>\n",
       "    <tr>\n",
       "      <th>2023-01-03</th>\n",
       "      <td>48500.0</td>\n",
       "      <td>61000.0</td>\n",
       "      <td>55000.0</td>\n",
       "      <td>5100.0</td>\n",
       "      <td>3100.0</td>\n",
       "      <td>3600.0</td>\n",
       "    </tr>\n",
       "    <tr>\n",
       "      <th>2023-01-04</th>\n",
       "      <td>49000.0</td>\n",
       "      <td>62000.0</td>\n",
       "      <td>56000.0</td>\n",
       "      <td>5200.0</td>\n",
       "      <td>3200.0</td>\n",
       "      <td>3700.0</td>\n",
       "    </tr>\n",
       "    <tr>\n",
       "      <th>2023-01-06</th>\n",
       "      <td>50000.0</td>\n",
       "      <td>63000.0</td>\n",
       "      <td>57000.0</td>\n",
       "      <td>5300.0</td>\n",
       "      <td>3300.0</td>\n",
       "      <td>3800.0</td>\n",
       "    </tr>\n",
       "  </tbody>\n",
       "</table>\n",
       "</div>"
      ],
      "text/plain": [
       "               A텔레콤      B전자      C은행     D철강     F화학  F화학_add500\n",
       "2023-01-02  48000.0  60000.0  54000.0  5000.0  3000.0      3500.0\n",
       "2023-01-03  48500.0  61000.0  55000.0  5100.0  3100.0      3600.0\n",
       "2023-01-04  49000.0  62000.0  56000.0  5200.0  3200.0      3700.0\n",
       "2023-01-06  50000.0  63000.0  57000.0  5300.0  3300.0      3800.0"
      ]
     },
     "execution_count": 254,
     "metadata": {},
     "output_type": "execute_result"
    }
   ],
   "source": [
    "concat_df2.loc['2023-01-06', :] = [50000, 63000,57000,5300,3300,3800]\n",
    "concat_df2"
   ]
  },
  {
   "cell_type": "code",
   "execution_count": 255,
   "id": "a3f00787-eae4-4694-94c4-e765111e6bbc",
   "metadata": {},
   "outputs": [
    {
     "data": {
      "text/html": [
       "<div>\n",
       "<style scoped>\n",
       "    .dataframe tbody tr th:only-of-type {\n",
       "        vertical-align: middle;\n",
       "    }\n",
       "\n",
       "    .dataframe tbody tr th {\n",
       "        vertical-align: top;\n",
       "    }\n",
       "\n",
       "    .dataframe thead th {\n",
       "        text-align: right;\n",
       "    }\n",
       "</style>\n",
       "<table border=\"1\" class=\"dataframe\">\n",
       "  <thead>\n",
       "    <tr style=\"text-align: right;\">\n",
       "      <th></th>\n",
       "      <th>A텔레콤</th>\n",
       "      <th>B전자</th>\n",
       "      <th>C은행</th>\n",
       "      <th>D철강</th>\n",
       "      <th>F화학</th>\n",
       "      <th>F화학_add500</th>\n",
       "    </tr>\n",
       "  </thead>\n",
       "  <tbody>\n",
       "    <tr>\n",
       "      <th>2023-01-02</th>\n",
       "      <td>48000.0</td>\n",
       "      <td>60000.0</td>\n",
       "      <td>54000.0</td>\n",
       "      <td>5000.0</td>\n",
       "      <td>3000.0</td>\n",
       "      <td>3500.0</td>\n",
       "    </tr>\n",
       "    <tr>\n",
       "      <th>2023-01-03</th>\n",
       "      <td>48500.0</td>\n",
       "      <td>61000.0</td>\n",
       "      <td>55000.0</td>\n",
       "      <td>5100.0</td>\n",
       "      <td>3100.0</td>\n",
       "      <td>3600.0</td>\n",
       "    </tr>\n",
       "    <tr>\n",
       "      <th>2023-01-04</th>\n",
       "      <td>49000.0</td>\n",
       "      <td>62000.0</td>\n",
       "      <td>56000.0</td>\n",
       "      <td>5200.0</td>\n",
       "      <td>3200.0</td>\n",
       "      <td>3700.0</td>\n",
       "    </tr>\n",
       "    <tr>\n",
       "      <th>2023-01-06</th>\n",
       "      <td>50000.0</td>\n",
       "      <td>63000.0</td>\n",
       "      <td>57000.0</td>\n",
       "      <td>5300.0</td>\n",
       "      <td>3300.0</td>\n",
       "      <td>3800.0</td>\n",
       "    </tr>\n",
       "    <tr>\n",
       "      <th>2023-01-05</th>\n",
       "      <td>49950.0</td>\n",
       "      <td>62950.0</td>\n",
       "      <td>56950.0</td>\n",
       "      <td>5250.0</td>\n",
       "      <td>3250.0</td>\n",
       "      <td>3750.0</td>\n",
       "    </tr>\n",
       "  </tbody>\n",
       "</table>\n",
       "</div>"
      ],
      "text/plain": [
       "               A텔레콤      B전자      C은행     D철강     F화학  F화학_add500\n",
       "2023-01-02  48000.0  60000.0  54000.0  5000.0  3000.0      3500.0\n",
       "2023-01-03  48500.0  61000.0  55000.0  5100.0  3100.0      3600.0\n",
       "2023-01-04  49000.0  62000.0  56000.0  5200.0  3200.0      3700.0\n",
       "2023-01-06  50000.0  63000.0  57000.0  5300.0  3300.0      3800.0\n",
       "2023-01-05  49950.0  62950.0  56950.0  5250.0  3250.0      3750.0"
      ]
     },
     "execution_count": 255,
     "metadata": {},
     "output_type": "execute_result"
    }
   ],
   "source": [
    "concat_df2.loc['2023-01-05', :] = concat_df2.loc['2023-01-06', :] - 50\n",
    "concat_df2"
   ]
  },
  {
   "cell_type": "code",
   "execution_count": 248,
   "id": "927ae4ca-f40a-4231-b9ba-5741ff65a050",
   "metadata": {},
   "outputs": [
    {
     "data": {
      "text/plain": [
       "pandas._libs.tslibs.timestamps.Timestamp"
      ]
     },
     "execution_count": 248,
     "metadata": {},
     "output_type": "execute_result"
    }
   ],
   "source": [
    "type(pd.to_datetime('2023-01-07'))"
   ]
  },
  {
   "cell_type": "code",
   "execution_count": 256,
   "id": "4d3a73b2-1d78-4cd3-8938-8f98b95b083e",
   "metadata": {},
   "outputs": [
    {
     "data": {
      "text/html": [
       "<div>\n",
       "<style scoped>\n",
       "    .dataframe tbody tr th:only-of-type {\n",
       "        vertical-align: middle;\n",
       "    }\n",
       "\n",
       "    .dataframe tbody tr th {\n",
       "        vertical-align: top;\n",
       "    }\n",
       "\n",
       "    .dataframe thead th {\n",
       "        text-align: right;\n",
       "    }\n",
       "</style>\n",
       "<table border=\"1\" class=\"dataframe\">\n",
       "  <thead>\n",
       "    <tr style=\"text-align: right;\">\n",
       "      <th></th>\n",
       "      <th>A텔레콤</th>\n",
       "      <th>B전자</th>\n",
       "      <th>C은행</th>\n",
       "      <th>D철강</th>\n",
       "      <th>F화학</th>\n",
       "      <th>F화학_add500</th>\n",
       "    </tr>\n",
       "  </thead>\n",
       "  <tbody>\n",
       "    <tr>\n",
       "      <th>2023-01-02</th>\n",
       "      <td>48000.0</td>\n",
       "      <td>60000.0</td>\n",
       "      <td>54000.0</td>\n",
       "      <td>5000.0</td>\n",
       "      <td>3000.0</td>\n",
       "      <td>3500.0</td>\n",
       "    </tr>\n",
       "    <tr>\n",
       "      <th>2023-01-03</th>\n",
       "      <td>48500.0</td>\n",
       "      <td>61000.0</td>\n",
       "      <td>55000.0</td>\n",
       "      <td>5100.0</td>\n",
       "      <td>3100.0</td>\n",
       "      <td>3600.0</td>\n",
       "    </tr>\n",
       "    <tr>\n",
       "      <th>2023-01-04</th>\n",
       "      <td>49000.0</td>\n",
       "      <td>62000.0</td>\n",
       "      <td>56000.0</td>\n",
       "      <td>5200.0</td>\n",
       "      <td>3200.0</td>\n",
       "      <td>3700.0</td>\n",
       "    </tr>\n",
       "    <tr>\n",
       "      <th>2023-01-05</th>\n",
       "      <td>49950.0</td>\n",
       "      <td>62950.0</td>\n",
       "      <td>56950.0</td>\n",
       "      <td>5250.0</td>\n",
       "      <td>3250.0</td>\n",
       "      <td>3750.0</td>\n",
       "    </tr>\n",
       "    <tr>\n",
       "      <th>2023-01-06</th>\n",
       "      <td>50000.0</td>\n",
       "      <td>63000.0</td>\n",
       "      <td>57000.0</td>\n",
       "      <td>5300.0</td>\n",
       "      <td>3300.0</td>\n",
       "      <td>3800.0</td>\n",
       "    </tr>\n",
       "  </tbody>\n",
       "</table>\n",
       "</div>"
      ],
      "text/plain": [
       "               A텔레콤      B전자      C은행     D철강     F화학  F화학_add500\n",
       "2023-01-02  48000.0  60000.0  54000.0  5000.0  3000.0      3500.0\n",
       "2023-01-03  48500.0  61000.0  55000.0  5100.0  3100.0      3600.0\n",
       "2023-01-04  49000.0  62000.0  56000.0  5200.0  3200.0      3700.0\n",
       "2023-01-05  49950.0  62950.0  56950.0  5250.0  3250.0      3750.0\n",
       "2023-01-06  50000.0  63000.0  57000.0  5300.0  3300.0      3800.0"
      ]
     },
     "execution_count": 256,
     "metadata": {},
     "output_type": "execute_result"
    }
   ],
   "source": [
    "concat_df2.sort_index()"
   ]
  },
  {
   "cell_type": "code",
   "execution_count": 259,
   "id": "4a450455-c899-45ca-a278-22228b720aff",
   "metadata": {},
   "outputs": [
    {
     "data": {
      "text/html": [
       "<div>\n",
       "<style scoped>\n",
       "    .dataframe tbody tr th:only-of-type {\n",
       "        vertical-align: middle;\n",
       "    }\n",
       "\n",
       "    .dataframe tbody tr th {\n",
       "        vertical-align: top;\n",
       "    }\n",
       "\n",
       "    .dataframe thead th {\n",
       "        text-align: right;\n",
       "    }\n",
       "</style>\n",
       "<table border=\"1\" class=\"dataframe\">\n",
       "  <thead>\n",
       "    <tr style=\"text-align: right;\">\n",
       "      <th></th>\n",
       "      <th>A텔레콤</th>\n",
       "      <th>B전자</th>\n",
       "      <th>C은행</th>\n",
       "      <th>D철강</th>\n",
       "      <th>F화학</th>\n",
       "      <th>F화학_add500</th>\n",
       "    </tr>\n",
       "  </thead>\n",
       "  <tbody>\n",
       "    <tr>\n",
       "      <th>2023-01-02</th>\n",
       "      <td>48000.0</td>\n",
       "      <td>60000.0</td>\n",
       "      <td>54000.0</td>\n",
       "      <td>5000.0</td>\n",
       "      <td>3000.0</td>\n",
       "      <td>3500.0</td>\n",
       "    </tr>\n",
       "    <tr>\n",
       "      <th>2023-01-03</th>\n",
       "      <td>48500.0</td>\n",
       "      <td>61000.0</td>\n",
       "      <td>55000.0</td>\n",
       "      <td>5100.0</td>\n",
       "      <td>3100.0</td>\n",
       "      <td>3600.0</td>\n",
       "    </tr>\n",
       "    <tr>\n",
       "      <th>2023-01-04</th>\n",
       "      <td>49000.0</td>\n",
       "      <td>62000.0</td>\n",
       "      <td>56000.0</td>\n",
       "      <td>5200.0</td>\n",
       "      <td>3200.0</td>\n",
       "      <td>3700.0</td>\n",
       "    </tr>\n",
       "    <tr>\n",
       "      <th>2023-01-05</th>\n",
       "      <td>49950.0</td>\n",
       "      <td>62950.0</td>\n",
       "      <td>56950.0</td>\n",
       "      <td>5250.0</td>\n",
       "      <td>3250.0</td>\n",
       "      <td>3750.0</td>\n",
       "    </tr>\n",
       "    <tr>\n",
       "      <th>2023-01-06</th>\n",
       "      <td>50000.0</td>\n",
       "      <td>63000.0</td>\n",
       "      <td>57000.0</td>\n",
       "      <td>5300.0</td>\n",
       "      <td>3300.0</td>\n",
       "      <td>3800.0</td>\n",
       "    </tr>\n",
       "  </tbody>\n",
       "</table>\n",
       "</div>"
      ],
      "text/plain": [
       "               A텔레콤      B전자      C은행     D철강     F화학  F화학_add500\n",
       "2023-01-02  48000.0  60000.0  54000.0  5000.0  3000.0      3500.0\n",
       "2023-01-03  48500.0  61000.0  55000.0  5100.0  3100.0      3600.0\n",
       "2023-01-04  49000.0  62000.0  56000.0  5200.0  3200.0      3700.0\n",
       "2023-01-05  49950.0  62950.0  56950.0  5250.0  3250.0      3750.0\n",
       "2023-01-06  50000.0  63000.0  57000.0  5300.0  3300.0      3800.0"
      ]
     },
     "execution_count": 259,
     "metadata": {},
     "output_type": "execute_result"
    }
   ],
   "source": [
    "concat_df2.sort_values(by = 'B전자')"
   ]
  },
  {
   "cell_type": "code",
   "execution_count": 260,
   "id": "28ada711-1906-447f-8161-6c1f9a1eb4ac",
   "metadata": {},
   "outputs": [
    {
     "data": {
      "text/html": [
       "<div>\n",
       "<style scoped>\n",
       "    .dataframe tbody tr th:only-of-type {\n",
       "        vertical-align: middle;\n",
       "    }\n",
       "\n",
       "    .dataframe tbody tr th {\n",
       "        vertical-align: top;\n",
       "    }\n",
       "\n",
       "    .dataframe thead th {\n",
       "        text-align: right;\n",
       "    }\n",
       "</style>\n",
       "<table border=\"1\" class=\"dataframe\">\n",
       "  <thead>\n",
       "    <tr style=\"text-align: right;\">\n",
       "      <th></th>\n",
       "      <th>A텔레콤</th>\n",
       "      <th>B전자</th>\n",
       "      <th>C은행</th>\n",
       "      <th>D철강</th>\n",
       "      <th>F화학</th>\n",
       "      <th>F화학_add500</th>\n",
       "    </tr>\n",
       "  </thead>\n",
       "  <tbody>\n",
       "    <tr>\n",
       "      <th>2023-01-06</th>\n",
       "      <td>50000.0</td>\n",
       "      <td>63000.0</td>\n",
       "      <td>57000.0</td>\n",
       "      <td>5300.0</td>\n",
       "      <td>3300.0</td>\n",
       "      <td>3800.0</td>\n",
       "    </tr>\n",
       "    <tr>\n",
       "      <th>2023-01-05</th>\n",
       "      <td>49950.0</td>\n",
       "      <td>62950.0</td>\n",
       "      <td>56950.0</td>\n",
       "      <td>5250.0</td>\n",
       "      <td>3250.0</td>\n",
       "      <td>3750.0</td>\n",
       "    </tr>\n",
       "    <tr>\n",
       "      <th>2023-01-04</th>\n",
       "      <td>49000.0</td>\n",
       "      <td>62000.0</td>\n",
       "      <td>56000.0</td>\n",
       "      <td>5200.0</td>\n",
       "      <td>3200.0</td>\n",
       "      <td>3700.0</td>\n",
       "    </tr>\n",
       "    <tr>\n",
       "      <th>2023-01-03</th>\n",
       "      <td>48500.0</td>\n",
       "      <td>61000.0</td>\n",
       "      <td>55000.0</td>\n",
       "      <td>5100.0</td>\n",
       "      <td>3100.0</td>\n",
       "      <td>3600.0</td>\n",
       "    </tr>\n",
       "    <tr>\n",
       "      <th>2023-01-02</th>\n",
       "      <td>48000.0</td>\n",
       "      <td>60000.0</td>\n",
       "      <td>54000.0</td>\n",
       "      <td>5000.0</td>\n",
       "      <td>3000.0</td>\n",
       "      <td>3500.0</td>\n",
       "    </tr>\n",
       "  </tbody>\n",
       "</table>\n",
       "</div>"
      ],
      "text/plain": [
       "               A텔레콤      B전자      C은행     D철강     F화학  F화학_add500\n",
       "2023-01-06  50000.0  63000.0  57000.0  5300.0  3300.0      3800.0\n",
       "2023-01-05  49950.0  62950.0  56950.0  5250.0  3250.0      3750.0\n",
       "2023-01-04  49000.0  62000.0  56000.0  5200.0  3200.0      3700.0\n",
       "2023-01-03  48500.0  61000.0  55000.0  5100.0  3100.0      3600.0\n",
       "2023-01-02  48000.0  60000.0  54000.0  5000.0  3000.0      3500.0"
      ]
     },
     "execution_count": 260,
     "metadata": {},
     "output_type": "execute_result"
    }
   ],
   "source": [
    "concat_df2.sort_values(by = 'B전자', ascending = False)"
   ]
  },
  {
   "cell_type": "markdown",
   "id": "a8d9ef95-d6da-4d42-86ad-763c24abd30c",
   "metadata": {},
   "source": [
    "데이터 삭제"
   ]
  },
  {
   "cell_type": "code",
   "execution_count": 265,
   "id": "fc8d86f9-8df9-4d81-907e-51e06d1d1b20",
   "metadata": {},
   "outputs": [],
   "source": [
    "concat_df2.drop('2023-01-04', inplace=True)  #inplace = True 원본도 삭제시켜버려"
   ]
  },
  {
   "cell_type": "code",
   "execution_count": 266,
   "id": "0ee69bea-5d8b-40ee-a845-13bad792f029",
   "metadata": {},
   "outputs": [
    {
     "data": {
      "text/html": [
       "<div>\n",
       "<style scoped>\n",
       "    .dataframe tbody tr th:only-of-type {\n",
       "        vertical-align: middle;\n",
       "    }\n",
       "\n",
       "    .dataframe tbody tr th {\n",
       "        vertical-align: top;\n",
       "    }\n",
       "\n",
       "    .dataframe thead th {\n",
       "        text-align: right;\n",
       "    }\n",
       "</style>\n",
       "<table border=\"1\" class=\"dataframe\">\n",
       "  <thead>\n",
       "    <tr style=\"text-align: right;\">\n",
       "      <th></th>\n",
       "      <th>A텔레콤</th>\n",
       "      <th>B전자</th>\n",
       "      <th>C은행</th>\n",
       "      <th>D철강</th>\n",
       "      <th>F화학</th>\n",
       "      <th>F화학_add500</th>\n",
       "    </tr>\n",
       "  </thead>\n",
       "  <tbody>\n",
       "    <tr>\n",
       "      <th>2023-01-02</th>\n",
       "      <td>48000.0</td>\n",
       "      <td>60000.0</td>\n",
       "      <td>54000.0</td>\n",
       "      <td>5000.0</td>\n",
       "      <td>3000.0</td>\n",
       "      <td>3500.0</td>\n",
       "    </tr>\n",
       "    <tr>\n",
       "      <th>2023-01-03</th>\n",
       "      <td>48500.0</td>\n",
       "      <td>61000.0</td>\n",
       "      <td>55000.0</td>\n",
       "      <td>5100.0</td>\n",
       "      <td>3100.0</td>\n",
       "      <td>3600.0</td>\n",
       "    </tr>\n",
       "    <tr>\n",
       "      <th>2023-01-06</th>\n",
       "      <td>50000.0</td>\n",
       "      <td>63000.0</td>\n",
       "      <td>57000.0</td>\n",
       "      <td>5300.0</td>\n",
       "      <td>3300.0</td>\n",
       "      <td>3800.0</td>\n",
       "    </tr>\n",
       "    <tr>\n",
       "      <th>2023-01-05</th>\n",
       "      <td>49950.0</td>\n",
       "      <td>62950.0</td>\n",
       "      <td>56950.0</td>\n",
       "      <td>5250.0</td>\n",
       "      <td>3250.0</td>\n",
       "      <td>3750.0</td>\n",
       "    </tr>\n",
       "  </tbody>\n",
       "</table>\n",
       "</div>"
      ],
      "text/plain": [
       "               A텔레콤      B전자      C은행     D철강     F화학  F화학_add500\n",
       "2023-01-02  48000.0  60000.0  54000.0  5000.0  3000.0      3500.0\n",
       "2023-01-03  48500.0  61000.0  55000.0  5100.0  3100.0      3600.0\n",
       "2023-01-06  50000.0  63000.0  57000.0  5300.0  3300.0      3800.0\n",
       "2023-01-05  49950.0  62950.0  56950.0  5250.0  3250.0      3750.0"
      ]
     },
     "execution_count": 266,
     "metadata": {},
     "output_type": "execute_result"
    }
   ],
   "source": [
    "concat_df2"
   ]
  },
  {
   "cell_type": "code",
   "execution_count": 270,
   "id": "293f1daa-ab71-4ce4-a143-cea536b519f9",
   "metadata": {},
   "outputs": [
    {
     "data": {
      "text/html": [
       "<div>\n",
       "<style scoped>\n",
       "    .dataframe tbody tr th:only-of-type {\n",
       "        vertical-align: middle;\n",
       "    }\n",
       "\n",
       "    .dataframe tbody tr th {\n",
       "        vertical-align: top;\n",
       "    }\n",
       "\n",
       "    .dataframe thead th {\n",
       "        text-align: right;\n",
       "    }\n",
       "</style>\n",
       "<table border=\"1\" class=\"dataframe\">\n",
       "  <thead>\n",
       "    <tr style=\"text-align: right;\">\n",
       "      <th></th>\n",
       "      <th>A텔레콤</th>\n",
       "      <th>B전자</th>\n",
       "      <th>F화학</th>\n",
       "      <th>F화학_add500</th>\n",
       "    </tr>\n",
       "  </thead>\n",
       "  <tbody>\n",
       "    <tr>\n",
       "      <th>2023-01-02</th>\n",
       "      <td>48000.0</td>\n",
       "      <td>60000.0</td>\n",
       "      <td>3000.0</td>\n",
       "      <td>3500.0</td>\n",
       "    </tr>\n",
       "    <tr>\n",
       "      <th>2023-01-03</th>\n",
       "      <td>48500.0</td>\n",
       "      <td>61000.0</td>\n",
       "      <td>3100.0</td>\n",
       "      <td>3600.0</td>\n",
       "    </tr>\n",
       "    <tr>\n",
       "      <th>2023-01-06</th>\n",
       "      <td>50000.0</td>\n",
       "      <td>63000.0</td>\n",
       "      <td>3300.0</td>\n",
       "      <td>3800.0</td>\n",
       "    </tr>\n",
       "    <tr>\n",
       "      <th>2023-01-05</th>\n",
       "      <td>49950.0</td>\n",
       "      <td>62950.0</td>\n",
       "      <td>3250.0</td>\n",
       "      <td>3750.0</td>\n",
       "    </tr>\n",
       "  </tbody>\n",
       "</table>\n",
       "</div>"
      ],
      "text/plain": [
       "               A텔레콤      B전자     F화학  F화학_add500\n",
       "2023-01-02  48000.0  60000.0  3000.0      3500.0\n",
       "2023-01-03  48500.0  61000.0  3100.0      3600.0\n",
       "2023-01-06  50000.0  63000.0  3300.0      3800.0\n",
       "2023-01-05  49950.0  62950.0  3250.0      3750.0"
      ]
     },
     "execution_count": 270,
     "metadata": {},
     "output_type": "execute_result"
    }
   ],
   "source": [
    "concat_df2.drop(['C은행', 'D철강'], axis=1)"
   ]
  },
  {
   "cell_type": "code",
   "execution_count": null,
   "id": "d9e745dc-39c7-430b-b45f-4d444c25ee08",
   "metadata": {},
   "outputs": [],
   "source": []
  },
  {
   "cell_type": "markdown",
   "id": "5d17d863-dbcb-4310-81fe-7e9c325c9e32",
   "metadata": {},
   "source": [
    "### 데이터프레임 다루기"
   ]
  },
  {
   "cell_type": "code",
   "execution_count": 276,
   "id": "0c889ecb-5bf8-447b-a656-6e74eb7e6040",
   "metadata": {},
   "outputs": [
    {
     "data": {
      "text/html": [
       "<div>\n",
       "<style scoped>\n",
       "    .dataframe tbody tr th:only-of-type {\n",
       "        vertical-align: middle;\n",
       "    }\n",
       "\n",
       "    .dataframe tbody tr th {\n",
       "        vertical-align: top;\n",
       "    }\n",
       "\n",
       "    .dataframe thead th {\n",
       "        text-align: right;\n",
       "    }\n",
       "</style>\n",
       "<table border=\"1\" class=\"dataframe\">\n",
       "  <thead>\n",
       "    <tr style=\"text-align: right;\">\n",
       "      <th></th>\n",
       "      <th>A텔레콤</th>\n",
       "      <th>B전자</th>\n",
       "      <th>C은행</th>\n",
       "      <th>D철강</th>\n",
       "      <th>F화학</th>\n",
       "      <th>F화학_add500</th>\n",
       "      <th>A텔레콤_add_B전자</th>\n",
       "      <th>sum1</th>\n",
       "    </tr>\n",
       "  </thead>\n",
       "  <tbody>\n",
       "    <tr>\n",
       "      <th>2023-01-02</th>\n",
       "      <td>48000.0</td>\n",
       "      <td>60000.0</td>\n",
       "      <td>54000.0</td>\n",
       "      <td>5000.0</td>\n",
       "      <td>3000.0</td>\n",
       "      <td>3500.0</td>\n",
       "      <td>108000.0</td>\n",
       "      <td>844500.0</td>\n",
       "    </tr>\n",
       "    <tr>\n",
       "      <th>2023-01-03</th>\n",
       "      <td>48500.0</td>\n",
       "      <td>61000.0</td>\n",
       "      <td>55000.0</td>\n",
       "      <td>5100.0</td>\n",
       "      <td>3100.0</td>\n",
       "      <td>3600.0</td>\n",
       "      <td>109500.0</td>\n",
       "      <td>857400.0</td>\n",
       "    </tr>\n",
       "    <tr>\n",
       "      <th>2023-01-06</th>\n",
       "      <td>50000.0</td>\n",
       "      <td>63000.0</td>\n",
       "      <td>57000.0</td>\n",
       "      <td>5300.0</td>\n",
       "      <td>3300.0</td>\n",
       "      <td>3800.0</td>\n",
       "      <td>113000.0</td>\n",
       "      <td>886200.0</td>\n",
       "    </tr>\n",
       "    <tr>\n",
       "      <th>2023-01-05</th>\n",
       "      <td>49950.0</td>\n",
       "      <td>62950.0</td>\n",
       "      <td>56950.0</td>\n",
       "      <td>5250.0</td>\n",
       "      <td>3250.0</td>\n",
       "      <td>3750.0</td>\n",
       "      <td>112900.0</td>\n",
       "      <td>885000.0</td>\n",
       "    </tr>\n",
       "  </tbody>\n",
       "</table>\n",
       "</div>"
      ],
      "text/plain": [
       "               A텔레콤      B전자      C은행     D철강     F화학  F화학_add500  \\\n",
       "2023-01-02  48000.0  60000.0  54000.0  5000.0  3000.0      3500.0   \n",
       "2023-01-03  48500.0  61000.0  55000.0  5100.0  3100.0      3600.0   \n",
       "2023-01-06  50000.0  63000.0  57000.0  5300.0  3300.0      3800.0   \n",
       "2023-01-05  49950.0  62950.0  56950.0  5250.0  3250.0      3750.0   \n",
       "\n",
       "            A텔레콤_add_B전자      sum1  \n",
       "2023-01-02      108000.0  844500.0  \n",
       "2023-01-03      109500.0  857400.0  \n",
       "2023-01-06      113000.0  886200.0  \n",
       "2023-01-05      112900.0  885000.0  "
      ]
     },
     "execution_count": 276,
     "metadata": {},
     "output_type": "execute_result"
    }
   ],
   "source": [
    "concat_df2['A텔레콤_add_B전자'] = concat_df2['A텔레콤'] + concat_df2['B전자']\n",
    "concat_df2"
   ]
  },
  {
   "cell_type": "code",
   "execution_count": 275,
   "id": "0ae5f451-914f-4e82-bc77-2d1be8dd7c3e",
   "metadata": {},
   "outputs": [
    {
     "data": {
      "text/html": [
       "<div>\n",
       "<style scoped>\n",
       "    .dataframe tbody tr th:only-of-type {\n",
       "        vertical-align: middle;\n",
       "    }\n",
       "\n",
       "    .dataframe tbody tr th {\n",
       "        vertical-align: top;\n",
       "    }\n",
       "\n",
       "    .dataframe thead th {\n",
       "        text-align: right;\n",
       "    }\n",
       "</style>\n",
       "<table border=\"1\" class=\"dataframe\">\n",
       "  <thead>\n",
       "    <tr style=\"text-align: right;\">\n",
       "      <th></th>\n",
       "      <th>A텔레콤</th>\n",
       "      <th>B전자</th>\n",
       "      <th>C은행</th>\n",
       "      <th>D철강</th>\n",
       "      <th>F화학</th>\n",
       "      <th>F화학_add500</th>\n",
       "      <th>A텔레콤_add_B전자</th>\n",
       "      <th>sum1</th>\n",
       "    </tr>\n",
       "  </thead>\n",
       "  <tbody>\n",
       "    <tr>\n",
       "      <th>2023-01-02</th>\n",
       "      <td>48000.0</td>\n",
       "      <td>60000.0</td>\n",
       "      <td>54000.0</td>\n",
       "      <td>5000.0</td>\n",
       "      <td>3000.0</td>\n",
       "      <td>3500.0</td>\n",
       "      <td>108000.0</td>\n",
       "      <td>844500.0</td>\n",
       "    </tr>\n",
       "    <tr>\n",
       "      <th>2023-01-03</th>\n",
       "      <td>48500.0</td>\n",
       "      <td>61000.0</td>\n",
       "      <td>55000.0</td>\n",
       "      <td>5100.0</td>\n",
       "      <td>3100.0</td>\n",
       "      <td>3600.0</td>\n",
       "      <td>109500.0</td>\n",
       "      <td>857400.0</td>\n",
       "    </tr>\n",
       "    <tr>\n",
       "      <th>2023-01-06</th>\n",
       "      <td>50000.0</td>\n",
       "      <td>63000.0</td>\n",
       "      <td>57000.0</td>\n",
       "      <td>5300.0</td>\n",
       "      <td>3300.0</td>\n",
       "      <td>3800.0</td>\n",
       "      <td>113000.0</td>\n",
       "      <td>886200.0</td>\n",
       "    </tr>\n",
       "    <tr>\n",
       "      <th>2023-01-05</th>\n",
       "      <td>49950.0</td>\n",
       "      <td>62950.0</td>\n",
       "      <td>56950.0</td>\n",
       "      <td>5250.0</td>\n",
       "      <td>3250.0</td>\n",
       "      <td>3750.0</td>\n",
       "      <td>112900.0</td>\n",
       "      <td>885000.0</td>\n",
       "    </tr>\n",
       "  </tbody>\n",
       "</table>\n",
       "</div>"
      ],
      "text/plain": [
       "               A텔레콤      B전자      C은행     D철강     F화학  F화학_add500  \\\n",
       "2023-01-02  48000.0  60000.0  54000.0  5000.0  3000.0      3500.0   \n",
       "2023-01-03  48500.0  61000.0  55000.0  5100.0  3100.0      3600.0   \n",
       "2023-01-06  50000.0  63000.0  57000.0  5300.0  3300.0      3800.0   \n",
       "2023-01-05  49950.0  62950.0  56950.0  5250.0  3250.0      3750.0   \n",
       "\n",
       "            A텔레콤_add_B전자      sum1  \n",
       "2023-01-02      108000.0  844500.0  \n",
       "2023-01-03      109500.0  857400.0  \n",
       "2023-01-06      113000.0  886200.0  \n",
       "2023-01-05      112900.0  885000.0  "
      ]
     },
     "execution_count": 275,
     "metadata": {},
     "output_type": "execute_result"
    }
   ],
   "source": [
    "concat_df2['sum1'] = concat_df2.sum(axis= 1)\n",
    "concat_df2"
   ]
  },
  {
   "cell_type": "code",
   "execution_count": 277,
   "id": "add888ba-7d75-43dc-a386-e43672f54ee9",
   "metadata": {},
   "outputs": [
    {
     "data": {
      "text/html": [
       "<div>\n",
       "<style scoped>\n",
       "    .dataframe tbody tr th:only-of-type {\n",
       "        vertical-align: middle;\n",
       "    }\n",
       "\n",
       "    .dataframe tbody tr th {\n",
       "        vertical-align: top;\n",
       "    }\n",
       "\n",
       "    .dataframe thead th {\n",
       "        text-align: right;\n",
       "    }\n",
       "</style>\n",
       "<table border=\"1\" class=\"dataframe\">\n",
       "  <thead>\n",
       "    <tr style=\"text-align: right;\">\n",
       "      <th></th>\n",
       "      <th>A텔레콤</th>\n",
       "      <th>B전자</th>\n",
       "      <th>C은행</th>\n",
       "      <th>D철강</th>\n",
       "      <th>F화학</th>\n",
       "      <th>F화학_add500</th>\n",
       "      <th>A텔레콤_add_B전자</th>\n",
       "      <th>sum1</th>\n",
       "    </tr>\n",
       "  </thead>\n",
       "  <tbody>\n",
       "    <tr>\n",
       "      <th>count</th>\n",
       "      <td>4.000000</td>\n",
       "      <td>4.000000</td>\n",
       "      <td>4.000000</td>\n",
       "      <td>4.000000</td>\n",
       "      <td>4.000000</td>\n",
       "      <td>4.000000</td>\n",
       "      <td>4.000000</td>\n",
       "      <td>4.000000</td>\n",
       "    </tr>\n",
       "    <tr>\n",
       "      <th>mean</th>\n",
       "      <td>49112.500000</td>\n",
       "      <td>61737.500000</td>\n",
       "      <td>55737.500000</td>\n",
       "      <td>5162.500000</td>\n",
       "      <td>3162.500000</td>\n",
       "      <td>3662.500000</td>\n",
       "      <td>110850.000000</td>\n",
       "      <td>868275.000000</td>\n",
       "    </tr>\n",
       "    <tr>\n",
       "      <th>std</th>\n",
       "      <td>1016.837417</td>\n",
       "      <td>1486.256483</td>\n",
       "      <td>1486.256483</td>\n",
       "      <td>137.689264</td>\n",
       "      <td>137.689264</td>\n",
       "      <td>137.689264</td>\n",
       "      <td>2501.332978</td>\n",
       "      <td>20692.571131</td>\n",
       "    </tr>\n",
       "    <tr>\n",
       "      <th>min</th>\n",
       "      <td>48000.000000</td>\n",
       "      <td>60000.000000</td>\n",
       "      <td>54000.000000</td>\n",
       "      <td>5000.000000</td>\n",
       "      <td>3000.000000</td>\n",
       "      <td>3500.000000</td>\n",
       "      <td>108000.000000</td>\n",
       "      <td>844500.000000</td>\n",
       "    </tr>\n",
       "    <tr>\n",
       "      <th>25%</th>\n",
       "      <td>48375.000000</td>\n",
       "      <td>60750.000000</td>\n",
       "      <td>54750.000000</td>\n",
       "      <td>5075.000000</td>\n",
       "      <td>3075.000000</td>\n",
       "      <td>3575.000000</td>\n",
       "      <td>109125.000000</td>\n",
       "      <td>854175.000000</td>\n",
       "    </tr>\n",
       "    <tr>\n",
       "      <th>50%</th>\n",
       "      <td>49225.000000</td>\n",
       "      <td>61975.000000</td>\n",
       "      <td>55975.000000</td>\n",
       "      <td>5175.000000</td>\n",
       "      <td>3175.000000</td>\n",
       "      <td>3675.000000</td>\n",
       "      <td>111200.000000</td>\n",
       "      <td>871200.000000</td>\n",
       "    </tr>\n",
       "    <tr>\n",
       "      <th>75%</th>\n",
       "      <td>49962.500000</td>\n",
       "      <td>62962.500000</td>\n",
       "      <td>56962.500000</td>\n",
       "      <td>5262.500000</td>\n",
       "      <td>3262.500000</td>\n",
       "      <td>3762.500000</td>\n",
       "      <td>112925.000000</td>\n",
       "      <td>885300.000000</td>\n",
       "    </tr>\n",
       "    <tr>\n",
       "      <th>max</th>\n",
       "      <td>50000.000000</td>\n",
       "      <td>63000.000000</td>\n",
       "      <td>57000.000000</td>\n",
       "      <td>5300.000000</td>\n",
       "      <td>3300.000000</td>\n",
       "      <td>3800.000000</td>\n",
       "      <td>113000.000000</td>\n",
       "      <td>886200.000000</td>\n",
       "    </tr>\n",
       "  </tbody>\n",
       "</table>\n",
       "</div>"
      ],
      "text/plain": [
       "               A텔레콤           B전자           C은행          D철강          F화학  \\\n",
       "count      4.000000      4.000000      4.000000     4.000000     4.000000   \n",
       "mean   49112.500000  61737.500000  55737.500000  5162.500000  3162.500000   \n",
       "std     1016.837417   1486.256483   1486.256483   137.689264   137.689264   \n",
       "min    48000.000000  60000.000000  54000.000000  5000.000000  3000.000000   \n",
       "25%    48375.000000  60750.000000  54750.000000  5075.000000  3075.000000   \n",
       "50%    49225.000000  61975.000000  55975.000000  5175.000000  3175.000000   \n",
       "75%    49962.500000  62962.500000  56962.500000  5262.500000  3262.500000   \n",
       "max    50000.000000  63000.000000  57000.000000  5300.000000  3300.000000   \n",
       "\n",
       "        F화학_add500   A텔레콤_add_B전자           sum1  \n",
       "count     4.000000       4.000000       4.000000  \n",
       "mean   3662.500000  110850.000000  868275.000000  \n",
       "std     137.689264    2501.332978   20692.571131  \n",
       "min    3500.000000  108000.000000  844500.000000  \n",
       "25%    3575.000000  109125.000000  854175.000000  \n",
       "50%    3675.000000  111200.000000  871200.000000  \n",
       "75%    3762.500000  112925.000000  885300.000000  \n",
       "max    3800.000000  113000.000000  886200.000000  "
      ]
     },
     "execution_count": 277,
     "metadata": {},
     "output_type": "execute_result"
    }
   ],
   "source": [
    "concat_df2.describe()"
   ]
  },
  {
   "cell_type": "markdown",
   "id": "5719cb16-e1ff-4695-b083-c3571fa5dbd2",
   "metadata": {},
   "source": [
    "### 결측치처리\n",
    "- 제거 : dropna <br>\n",
    "- 대체 : fillna"
   ]
  },
  {
   "cell_type": "code",
   "execution_count": 280,
   "id": "8e488dbc-96f5-4911-9870-467ae2bdcdb5",
   "metadata": {},
   "outputs": [
    {
     "data": {
      "text/html": [
       "<div>\n",
       "<style scoped>\n",
       "    .dataframe tbody tr th:only-of-type {\n",
       "        vertical-align: middle;\n",
       "    }\n",
       "\n",
       "    .dataframe tbody tr th {\n",
       "        vertical-align: top;\n",
       "    }\n",
       "\n",
       "    .dataframe thead th {\n",
       "        text-align: right;\n",
       "    }\n",
       "</style>\n",
       "<table border=\"1\" class=\"dataframe\">\n",
       "  <thead>\n",
       "    <tr style=\"text-align: right;\">\n",
       "      <th></th>\n",
       "      <th>A텔레콤</th>\n",
       "      <th>B전자</th>\n",
       "      <th>C은행</th>\n",
       "      <th>D철강</th>\n",
       "      <th>F화학</th>\n",
       "      <th>F화학_add500</th>\n",
       "      <th>A텔레콤_add_B전자</th>\n",
       "      <th>sum1</th>\n",
       "    </tr>\n",
       "  </thead>\n",
       "  <tbody>\n",
       "    <tr>\n",
       "      <th>2023-01-02</th>\n",
       "      <td>48000.0</td>\n",
       "      <td>60000.0</td>\n",
       "      <td>54000.0</td>\n",
       "      <td>5000.0</td>\n",
       "      <td>3000.0</td>\n",
       "      <td>3500.0</td>\n",
       "      <td>108000.0</td>\n",
       "      <td>844500.0</td>\n",
       "    </tr>\n",
       "    <tr>\n",
       "      <th>2023-01-03</th>\n",
       "      <td>48500.0</td>\n",
       "      <td>61000.0</td>\n",
       "      <td>NaN</td>\n",
       "      <td>NaN</td>\n",
       "      <td>NaN</td>\n",
       "      <td>3600.0</td>\n",
       "      <td>109500.0</td>\n",
       "      <td>857400.0</td>\n",
       "    </tr>\n",
       "    <tr>\n",
       "      <th>2023-01-06</th>\n",
       "      <td>50000.0</td>\n",
       "      <td>63000.0</td>\n",
       "      <td>57000.0</td>\n",
       "      <td>5300.0</td>\n",
       "      <td>3300.0</td>\n",
       "      <td>3800.0</td>\n",
       "      <td>113000.0</td>\n",
       "      <td>886200.0</td>\n",
       "    </tr>\n",
       "    <tr>\n",
       "      <th>2023-01-05</th>\n",
       "      <td>49950.0</td>\n",
       "      <td>62950.0</td>\n",
       "      <td>56950.0</td>\n",
       "      <td>5250.0</td>\n",
       "      <td>3250.0</td>\n",
       "      <td>3750.0</td>\n",
       "      <td>112900.0</td>\n",
       "      <td>885000.0</td>\n",
       "    </tr>\n",
       "  </tbody>\n",
       "</table>\n",
       "</div>"
      ],
      "text/plain": [
       "               A텔레콤      B전자      C은행     D철강     F화학  F화학_add500  \\\n",
       "2023-01-02  48000.0  60000.0  54000.0  5000.0  3000.0      3500.0   \n",
       "2023-01-03  48500.0  61000.0      NaN     NaN     NaN      3600.0   \n",
       "2023-01-06  50000.0  63000.0  57000.0  5300.0  3300.0      3800.0   \n",
       "2023-01-05  49950.0  62950.0  56950.0  5250.0  3250.0      3750.0   \n",
       "\n",
       "            A텔레콤_add_B전자      sum1  \n",
       "2023-01-02      108000.0  844500.0  \n",
       "2023-01-03      109500.0  857400.0  \n",
       "2023-01-06      113000.0  886200.0  \n",
       "2023-01-05      112900.0  885000.0  "
      ]
     },
     "execution_count": 280,
     "metadata": {},
     "output_type": "execute_result"
    }
   ],
   "source": [
    "concat_df2.loc['2023-01-03', 'C은행':'F화학'] = np.NaN\n",
    "concat_df2"
   ]
  },
  {
   "cell_type": "code",
   "execution_count": 283,
   "id": "5a854d3b-a15a-4c90-a55e-9b754503a3ca",
   "metadata": {},
   "outputs": [
    {
     "data": {
      "text/html": [
       "<div>\n",
       "<style scoped>\n",
       "    .dataframe tbody tr th:only-of-type {\n",
       "        vertical-align: middle;\n",
       "    }\n",
       "\n",
       "    .dataframe tbody tr th {\n",
       "        vertical-align: top;\n",
       "    }\n",
       "\n",
       "    .dataframe thead th {\n",
       "        text-align: right;\n",
       "    }\n",
       "</style>\n",
       "<table border=\"1\" class=\"dataframe\">\n",
       "  <thead>\n",
       "    <tr style=\"text-align: right;\">\n",
       "      <th></th>\n",
       "      <th>A텔레콤</th>\n",
       "      <th>B전자</th>\n",
       "      <th>C은행</th>\n",
       "      <th>D철강</th>\n",
       "      <th>F화학</th>\n",
       "      <th>F화학_add500</th>\n",
       "      <th>A텔레콤_add_B전자</th>\n",
       "      <th>sum1</th>\n",
       "    </tr>\n",
       "  </thead>\n",
       "  <tbody>\n",
       "    <tr>\n",
       "      <th>2023-01-02</th>\n",
       "      <td>48000.0</td>\n",
       "      <td>60000.0</td>\n",
       "      <td>54000.0</td>\n",
       "      <td>5000.0</td>\n",
       "      <td>3000.0</td>\n",
       "      <td>3500.0</td>\n",
       "      <td>108000.0</td>\n",
       "      <td>844500.0</td>\n",
       "    </tr>\n",
       "    <tr>\n",
       "      <th>2023-01-06</th>\n",
       "      <td>50000.0</td>\n",
       "      <td>63000.0</td>\n",
       "      <td>57000.0</td>\n",
       "      <td>5300.0</td>\n",
       "      <td>3300.0</td>\n",
       "      <td>3800.0</td>\n",
       "      <td>113000.0</td>\n",
       "      <td>886200.0</td>\n",
       "    </tr>\n",
       "    <tr>\n",
       "      <th>2023-01-05</th>\n",
       "      <td>49950.0</td>\n",
       "      <td>62950.0</td>\n",
       "      <td>56950.0</td>\n",
       "      <td>5250.0</td>\n",
       "      <td>3250.0</td>\n",
       "      <td>3750.0</td>\n",
       "      <td>112900.0</td>\n",
       "      <td>885000.0</td>\n",
       "    </tr>\n",
       "  </tbody>\n",
       "</table>\n",
       "</div>"
      ],
      "text/plain": [
       "               A텔레콤      B전자      C은행     D철강     F화학  F화학_add500  \\\n",
       "2023-01-02  48000.0  60000.0  54000.0  5000.0  3000.0      3500.0   \n",
       "2023-01-06  50000.0  63000.0  57000.0  5300.0  3300.0      3800.0   \n",
       "2023-01-05  49950.0  62950.0  56950.0  5250.0  3250.0      3750.0   \n",
       "\n",
       "            A텔레콤_add_B전자      sum1  \n",
       "2023-01-02      108000.0  844500.0  \n",
       "2023-01-06      113000.0  886200.0  \n",
       "2023-01-05      112900.0  885000.0  "
      ]
     },
     "execution_count": 283,
     "metadata": {},
     "output_type": "execute_result"
    }
   ],
   "source": [
    "concat_df2.dropna(axis = 0)"
   ]
  },
  {
   "cell_type": "code",
   "execution_count": null,
   "id": "dfba147a-285d-4610-8234-ce25ba7123aa",
   "metadata": {},
   "outputs": [],
   "source": []
  },
  {
   "cell_type": "markdown",
   "id": "1f05da0a-0a52-4b44-8b0d-d60c64a485fb",
   "metadata": {},
   "source": [
    "### 결측치 대체"
   ]
  },
  {
   "cell_type": "code",
   "execution_count": 285,
   "id": "86680bc0-cfc4-4520-b0f1-bc3320ec12f0",
   "metadata": {},
   "outputs": [],
   "source": [
    "concat_df2.loc[pd.to_datetime('2023-01-04')] = concat_df2.loc[pd.to_datetime('2023-01-02')] + 100\n",
    "concat_df2 = concat_df2.sort_index()"
   ]
  },
  {
   "cell_type": "code",
   "execution_count": 286,
   "id": "a9d36479-d36c-40dd-8897-31f9709d98f4",
   "metadata": {},
   "outputs": [
    {
     "data": {
      "text/html": [
       "<div>\n",
       "<style scoped>\n",
       "    .dataframe tbody tr th:only-of-type {\n",
       "        vertical-align: middle;\n",
       "    }\n",
       "\n",
       "    .dataframe tbody tr th {\n",
       "        vertical-align: top;\n",
       "    }\n",
       "\n",
       "    .dataframe thead th {\n",
       "        text-align: right;\n",
       "    }\n",
       "</style>\n",
       "<table border=\"1\" class=\"dataframe\">\n",
       "  <thead>\n",
       "    <tr style=\"text-align: right;\">\n",
       "      <th></th>\n",
       "      <th>A텔레콤</th>\n",
       "      <th>B전자</th>\n",
       "      <th>C은행</th>\n",
       "      <th>D철강</th>\n",
       "      <th>F화학</th>\n",
       "      <th>F화학_add500</th>\n",
       "      <th>A텔레콤_add_B전자</th>\n",
       "      <th>sum1</th>\n",
       "    </tr>\n",
       "  </thead>\n",
       "  <tbody>\n",
       "    <tr>\n",
       "      <th>2023-01-02</th>\n",
       "      <td>48000.0</td>\n",
       "      <td>60000.0</td>\n",
       "      <td>54000.0</td>\n",
       "      <td>5000.0</td>\n",
       "      <td>3000.0</td>\n",
       "      <td>3500.0</td>\n",
       "      <td>108000.0</td>\n",
       "      <td>844500.0</td>\n",
       "    </tr>\n",
       "    <tr>\n",
       "      <th>2023-01-03</th>\n",
       "      <td>48500.0</td>\n",
       "      <td>61000.0</td>\n",
       "      <td>NaN</td>\n",
       "      <td>NaN</td>\n",
       "      <td>NaN</td>\n",
       "      <td>3600.0</td>\n",
       "      <td>109500.0</td>\n",
       "      <td>857400.0</td>\n",
       "    </tr>\n",
       "    <tr>\n",
       "      <th>2023-01-04</th>\n",
       "      <td>48100.0</td>\n",
       "      <td>60100.0</td>\n",
       "      <td>54100.0</td>\n",
       "      <td>5100.0</td>\n",
       "      <td>3100.0</td>\n",
       "      <td>3600.0</td>\n",
       "      <td>108100.0</td>\n",
       "      <td>844600.0</td>\n",
       "    </tr>\n",
       "    <tr>\n",
       "      <th>2023-01-05</th>\n",
       "      <td>49950.0</td>\n",
       "      <td>62950.0</td>\n",
       "      <td>56950.0</td>\n",
       "      <td>5250.0</td>\n",
       "      <td>3250.0</td>\n",
       "      <td>3750.0</td>\n",
       "      <td>112900.0</td>\n",
       "      <td>885000.0</td>\n",
       "    </tr>\n",
       "    <tr>\n",
       "      <th>2023-01-06</th>\n",
       "      <td>50000.0</td>\n",
       "      <td>63000.0</td>\n",
       "      <td>57000.0</td>\n",
       "      <td>5300.0</td>\n",
       "      <td>3300.0</td>\n",
       "      <td>3800.0</td>\n",
       "      <td>113000.0</td>\n",
       "      <td>886200.0</td>\n",
       "    </tr>\n",
       "  </tbody>\n",
       "</table>\n",
       "</div>"
      ],
      "text/plain": [
       "               A텔레콤      B전자      C은행     D철강     F화학  F화학_add500  \\\n",
       "2023-01-02  48000.0  60000.0  54000.0  5000.0  3000.0      3500.0   \n",
       "2023-01-03  48500.0  61000.0      NaN     NaN     NaN      3600.0   \n",
       "2023-01-04  48100.0  60100.0  54100.0  5100.0  3100.0      3600.0   \n",
       "2023-01-05  49950.0  62950.0  56950.0  5250.0  3250.0      3750.0   \n",
       "2023-01-06  50000.0  63000.0  57000.0  5300.0  3300.0      3800.0   \n",
       "\n",
       "            A텔레콤_add_B전자      sum1  \n",
       "2023-01-02      108000.0  844500.0  \n",
       "2023-01-03      109500.0  857400.0  \n",
       "2023-01-04      108100.0  844600.0  \n",
       "2023-01-05      112900.0  885000.0  \n",
       "2023-01-06      113000.0  886200.0  "
      ]
     },
     "execution_count": 286,
     "metadata": {},
     "output_type": "execute_result"
    }
   ],
   "source": [
    "concat_df2"
   ]
  },
  {
   "cell_type": "code",
   "execution_count": 288,
   "id": "8764cf03-d891-4bba-9353-f877c8aee8fb",
   "metadata": {},
   "outputs": [
    {
     "data": {
      "text/html": [
       "<div>\n",
       "<style scoped>\n",
       "    .dataframe tbody tr th:only-of-type {\n",
       "        vertical-align: middle;\n",
       "    }\n",
       "\n",
       "    .dataframe tbody tr th {\n",
       "        vertical-align: top;\n",
       "    }\n",
       "\n",
       "    .dataframe thead th {\n",
       "        text-align: right;\n",
       "    }\n",
       "</style>\n",
       "<table border=\"1\" class=\"dataframe\">\n",
       "  <thead>\n",
       "    <tr style=\"text-align: right;\">\n",
       "      <th></th>\n",
       "      <th>A텔레콤</th>\n",
       "      <th>B전자</th>\n",
       "      <th>C은행</th>\n",
       "      <th>D철강</th>\n",
       "      <th>F화학</th>\n",
       "      <th>F화학_add500</th>\n",
       "      <th>A텔레콤_add_B전자</th>\n",
       "      <th>sum1</th>\n",
       "    </tr>\n",
       "  </thead>\n",
       "  <tbody>\n",
       "    <tr>\n",
       "      <th>2023-01-02</th>\n",
       "      <td>48000.0</td>\n",
       "      <td>60000.0</td>\n",
       "      <td>54000.0</td>\n",
       "      <td>5000.0</td>\n",
       "      <td>3000.0</td>\n",
       "      <td>3500.0</td>\n",
       "      <td>108000.0</td>\n",
       "      <td>844500.0</td>\n",
       "    </tr>\n",
       "    <tr>\n",
       "      <th>2023-01-03</th>\n",
       "      <td>48500.0</td>\n",
       "      <td>61000.0</td>\n",
       "      <td>54050.0</td>\n",
       "      <td>5050.0</td>\n",
       "      <td>3050.0</td>\n",
       "      <td>3600.0</td>\n",
       "      <td>109500.0</td>\n",
       "      <td>857400.0</td>\n",
       "    </tr>\n",
       "    <tr>\n",
       "      <th>2023-01-04</th>\n",
       "      <td>48100.0</td>\n",
       "      <td>60100.0</td>\n",
       "      <td>54100.0</td>\n",
       "      <td>5100.0</td>\n",
       "      <td>3100.0</td>\n",
       "      <td>3600.0</td>\n",
       "      <td>108100.0</td>\n",
       "      <td>844600.0</td>\n",
       "    </tr>\n",
       "    <tr>\n",
       "      <th>2023-01-05</th>\n",
       "      <td>49950.0</td>\n",
       "      <td>62950.0</td>\n",
       "      <td>56950.0</td>\n",
       "      <td>5250.0</td>\n",
       "      <td>3250.0</td>\n",
       "      <td>3750.0</td>\n",
       "      <td>112900.0</td>\n",
       "      <td>885000.0</td>\n",
       "    </tr>\n",
       "    <tr>\n",
       "      <th>2023-01-06</th>\n",
       "      <td>50000.0</td>\n",
       "      <td>63000.0</td>\n",
       "      <td>57000.0</td>\n",
       "      <td>5300.0</td>\n",
       "      <td>3300.0</td>\n",
       "      <td>3800.0</td>\n",
       "      <td>113000.0</td>\n",
       "      <td>886200.0</td>\n",
       "    </tr>\n",
       "  </tbody>\n",
       "</table>\n",
       "</div>"
      ],
      "text/plain": [
       "               A텔레콤      B전자      C은행     D철강     F화학  F화학_add500  \\\n",
       "2023-01-02  48000.0  60000.0  54000.0  5000.0  3000.0      3500.0   \n",
       "2023-01-03  48500.0  61000.0  54050.0  5050.0  3050.0      3600.0   \n",
       "2023-01-04  48100.0  60100.0  54100.0  5100.0  3100.0      3600.0   \n",
       "2023-01-05  49950.0  62950.0  56950.0  5250.0  3250.0      3750.0   \n",
       "2023-01-06  50000.0  63000.0  57000.0  5300.0  3300.0      3800.0   \n",
       "\n",
       "            A텔레콤_add_B전자      sum1  \n",
       "2023-01-02      108000.0  844500.0  \n",
       "2023-01-03      109500.0  857400.0  \n",
       "2023-01-04      108100.0  844600.0  \n",
       "2023-01-05      112900.0  885000.0  \n",
       "2023-01-06      113000.0  886200.0  "
      ]
     },
     "execution_count": 288,
     "metadata": {},
     "output_type": "execute_result"
    }
   ],
   "source": [
    "concat_df2.interpolate()  #1. 대체값 채워주는방식 1"
   ]
  },
  {
   "cell_type": "code",
   "execution_count": 294,
   "id": "4c833dff-ad9c-42cf-a416-917d423f06b7",
   "metadata": {},
   "outputs": [
    {
     "data": {
      "text/html": [
       "<div>\n",
       "<style scoped>\n",
       "    .dataframe tbody tr th:only-of-type {\n",
       "        vertical-align: middle;\n",
       "    }\n",
       "\n",
       "    .dataframe tbody tr th {\n",
       "        vertical-align: top;\n",
       "    }\n",
       "\n",
       "    .dataframe thead th {\n",
       "        text-align: right;\n",
       "    }\n",
       "</style>\n",
       "<table border=\"1\" class=\"dataframe\">\n",
       "  <thead>\n",
       "    <tr style=\"text-align: right;\">\n",
       "      <th></th>\n",
       "      <th>A텔레콤</th>\n",
       "      <th>B전자</th>\n",
       "      <th>C은행</th>\n",
       "      <th>D철강</th>\n",
       "      <th>F화학</th>\n",
       "      <th>F화학_add500</th>\n",
       "      <th>A텔레콤_add_B전자</th>\n",
       "      <th>sum1</th>\n",
       "    </tr>\n",
       "  </thead>\n",
       "  <tbody>\n",
       "    <tr>\n",
       "      <th>2023-01-02</th>\n",
       "      <td>48000.0</td>\n",
       "      <td>60000.0</td>\n",
       "      <td>54000.0</td>\n",
       "      <td>5000.0</td>\n",
       "      <td>3000.0</td>\n",
       "      <td>3500.0</td>\n",
       "      <td>108000.0</td>\n",
       "      <td>844500.0</td>\n",
       "    </tr>\n",
       "    <tr>\n",
       "      <th>2023-01-03</th>\n",
       "      <td>48500.0</td>\n",
       "      <td>61000.0</td>\n",
       "      <td>54000.0</td>\n",
       "      <td>5000.0</td>\n",
       "      <td>3000.0</td>\n",
       "      <td>3600.0</td>\n",
       "      <td>109500.0</td>\n",
       "      <td>857400.0</td>\n",
       "    </tr>\n",
       "    <tr>\n",
       "      <th>2023-01-04</th>\n",
       "      <td>48100.0</td>\n",
       "      <td>60100.0</td>\n",
       "      <td>54100.0</td>\n",
       "      <td>5100.0</td>\n",
       "      <td>3100.0</td>\n",
       "      <td>3600.0</td>\n",
       "      <td>108100.0</td>\n",
       "      <td>844600.0</td>\n",
       "    </tr>\n",
       "    <tr>\n",
       "      <th>2023-01-05</th>\n",
       "      <td>49950.0</td>\n",
       "      <td>62950.0</td>\n",
       "      <td>56950.0</td>\n",
       "      <td>5250.0</td>\n",
       "      <td>3250.0</td>\n",
       "      <td>3750.0</td>\n",
       "      <td>112900.0</td>\n",
       "      <td>885000.0</td>\n",
       "    </tr>\n",
       "    <tr>\n",
       "      <th>2023-01-06</th>\n",
       "      <td>50000.0</td>\n",
       "      <td>63000.0</td>\n",
       "      <td>57000.0</td>\n",
       "      <td>5300.0</td>\n",
       "      <td>3300.0</td>\n",
       "      <td>3800.0</td>\n",
       "      <td>113000.0</td>\n",
       "      <td>886200.0</td>\n",
       "    </tr>\n",
       "  </tbody>\n",
       "</table>\n",
       "</div>"
      ],
      "text/plain": [
       "               A텔레콤      B전자      C은행     D철강     F화학  F화학_add500  \\\n",
       "2023-01-02  48000.0  60000.0  54000.0  5000.0  3000.0      3500.0   \n",
       "2023-01-03  48500.0  61000.0  54000.0  5000.0  3000.0      3600.0   \n",
       "2023-01-04  48100.0  60100.0  54100.0  5100.0  3100.0      3600.0   \n",
       "2023-01-05  49950.0  62950.0  56950.0  5250.0  3250.0      3750.0   \n",
       "2023-01-06  50000.0  63000.0  57000.0  5300.0  3300.0      3800.0   \n",
       "\n",
       "            A텔레콤_add_B전자      sum1  \n",
       "2023-01-02      108000.0  844500.0  \n",
       "2023-01-03      109500.0  857400.0  \n",
       "2023-01-04      108100.0  844600.0  \n",
       "2023-01-05      112900.0  885000.0  \n",
       "2023-01-06      113000.0  886200.0  "
      ]
     },
     "execution_count": 294,
     "metadata": {},
     "output_type": "execute_result"
    }
   ],
   "source": [
    "concat_df2.fillna(method = 'ffill') #2. fillna = backfill, frontfill "
   ]
  },
  {
   "cell_type": "markdown",
   "id": "a4775064-1ea3-4329-8d5d-d0fa00fd3efd",
   "metadata": {},
   "source": [
    "### 중복제거"
   ]
  },
  {
   "cell_type": "code",
   "execution_count": 297,
   "id": "dd956ef2-2ed8-459d-afa0-0a7342dbaaf5",
   "metadata": {},
   "outputs": [
    {
     "data": {
      "text/html": [
       "<div>\n",
       "<style scoped>\n",
       "    .dataframe tbody tr th:only-of-type {\n",
       "        vertical-align: middle;\n",
       "    }\n",
       "\n",
       "    .dataframe tbody tr th {\n",
       "        vertical-align: top;\n",
       "    }\n",
       "\n",
       "    .dataframe thead th {\n",
       "        text-align: right;\n",
       "    }\n",
       "</style>\n",
       "<table border=\"1\" class=\"dataframe\">\n",
       "  <thead>\n",
       "    <tr style=\"text-align: right;\">\n",
       "      <th></th>\n",
       "      <th>A텔레콤</th>\n",
       "      <th>B전자</th>\n",
       "      <th>C은행</th>\n",
       "      <th>D철강</th>\n",
       "      <th>F화학</th>\n",
       "      <th>F화학_add500</th>\n",
       "      <th>A텔레콤_add_B전자</th>\n",
       "      <th>sum1</th>\n",
       "    </tr>\n",
       "  </thead>\n",
       "  <tbody>\n",
       "    <tr>\n",
       "      <th>2023-01-02</th>\n",
       "      <td>48000.0</td>\n",
       "      <td>60000.0</td>\n",
       "      <td>54000.0</td>\n",
       "      <td>5000.0</td>\n",
       "      <td>3000.0</td>\n",
       "      <td>3500.0</td>\n",
       "      <td>108000.0</td>\n",
       "      <td>844500.0</td>\n",
       "    </tr>\n",
       "    <tr>\n",
       "      <th>2023-01-03</th>\n",
       "      <td>48500.0</td>\n",
       "      <td>61000.0</td>\n",
       "      <td>NaN</td>\n",
       "      <td>NaN</td>\n",
       "      <td>NaN</td>\n",
       "      <td>3600.0</td>\n",
       "      <td>109500.0</td>\n",
       "      <td>857400.0</td>\n",
       "    </tr>\n",
       "    <tr>\n",
       "      <th>2023-01-04</th>\n",
       "      <td>48100.0</td>\n",
       "      <td>60100.0</td>\n",
       "      <td>54100.0</td>\n",
       "      <td>5100.0</td>\n",
       "      <td>3100.0</td>\n",
       "      <td>3600.0</td>\n",
       "      <td>108100.0</td>\n",
       "      <td>844600.0</td>\n",
       "    </tr>\n",
       "    <tr>\n",
       "      <th>2023-01-05</th>\n",
       "      <td>49950.0</td>\n",
       "      <td>62950.0</td>\n",
       "      <td>56950.0</td>\n",
       "      <td>5250.0</td>\n",
       "      <td>3250.0</td>\n",
       "      <td>3750.0</td>\n",
       "      <td>112900.0</td>\n",
       "      <td>885000.0</td>\n",
       "    </tr>\n",
       "    <tr>\n",
       "      <th>2023-01-06</th>\n",
       "      <td>50000.0</td>\n",
       "      <td>63000.0</td>\n",
       "      <td>57000.0</td>\n",
       "      <td>5300.0</td>\n",
       "      <td>3300.0</td>\n",
       "      <td>3800.0</td>\n",
       "      <td>113000.0</td>\n",
       "      <td>886200.0</td>\n",
       "    </tr>\n",
       "    <tr>\n",
       "      <th>2023-01-02</th>\n",
       "      <td>48000.0</td>\n",
       "      <td>60000.0</td>\n",
       "      <td>54000.0</td>\n",
       "      <td>5000.0</td>\n",
       "      <td>3000.0</td>\n",
       "      <td>3500.0</td>\n",
       "      <td>108000.0</td>\n",
       "      <td>844500.0</td>\n",
       "    </tr>\n",
       "    <tr>\n",
       "      <th>2023-01-03</th>\n",
       "      <td>48500.0</td>\n",
       "      <td>61000.0</td>\n",
       "      <td>NaN</td>\n",
       "      <td>NaN</td>\n",
       "      <td>NaN</td>\n",
       "      <td>3600.0</td>\n",
       "      <td>109500.0</td>\n",
       "      <td>857400.0</td>\n",
       "    </tr>\n",
       "    <tr>\n",
       "      <th>2023-01-04</th>\n",
       "      <td>48100.0</td>\n",
       "      <td>60100.0</td>\n",
       "      <td>54100.0</td>\n",
       "      <td>5100.0</td>\n",
       "      <td>3100.0</td>\n",
       "      <td>3600.0</td>\n",
       "      <td>108100.0</td>\n",
       "      <td>844600.0</td>\n",
       "    </tr>\n",
       "    <tr>\n",
       "      <th>2023-01-05</th>\n",
       "      <td>49950.0</td>\n",
       "      <td>62950.0</td>\n",
       "      <td>56950.0</td>\n",
       "      <td>5250.0</td>\n",
       "      <td>3250.0</td>\n",
       "      <td>3750.0</td>\n",
       "      <td>112900.0</td>\n",
       "      <td>885000.0</td>\n",
       "    </tr>\n",
       "    <tr>\n",
       "      <th>2023-01-06</th>\n",
       "      <td>50000.0</td>\n",
       "      <td>63000.0</td>\n",
       "      <td>57000.0</td>\n",
       "      <td>5300.0</td>\n",
       "      <td>3300.0</td>\n",
       "      <td>3800.0</td>\n",
       "      <td>113000.0</td>\n",
       "      <td>886200.0</td>\n",
       "    </tr>\n",
       "  </tbody>\n",
       "</table>\n",
       "</div>"
      ],
      "text/plain": [
       "               A텔레콤      B전자      C은행     D철강     F화학  F화학_add500  \\\n",
       "2023-01-02  48000.0  60000.0  54000.0  5000.0  3000.0      3500.0   \n",
       "2023-01-03  48500.0  61000.0      NaN     NaN     NaN      3600.0   \n",
       "2023-01-04  48100.0  60100.0  54100.0  5100.0  3100.0      3600.0   \n",
       "2023-01-05  49950.0  62950.0  56950.0  5250.0  3250.0      3750.0   \n",
       "2023-01-06  50000.0  63000.0  57000.0  5300.0  3300.0      3800.0   \n",
       "2023-01-02  48000.0  60000.0  54000.0  5000.0  3000.0      3500.0   \n",
       "2023-01-03  48500.0  61000.0      NaN     NaN     NaN      3600.0   \n",
       "2023-01-04  48100.0  60100.0  54100.0  5100.0  3100.0      3600.0   \n",
       "2023-01-05  49950.0  62950.0  56950.0  5250.0  3250.0      3750.0   \n",
       "2023-01-06  50000.0  63000.0  57000.0  5300.0  3300.0      3800.0   \n",
       "\n",
       "            A텔레콤_add_B전자      sum1  \n",
       "2023-01-02      108000.0  844500.0  \n",
       "2023-01-03      109500.0  857400.0  \n",
       "2023-01-04      108100.0  844600.0  \n",
       "2023-01-05      112900.0  885000.0  \n",
       "2023-01-06      113000.0  886200.0  \n",
       "2023-01-02      108000.0  844500.0  \n",
       "2023-01-03      109500.0  857400.0  \n",
       "2023-01-04      108100.0  844600.0  \n",
       "2023-01-05      112900.0  885000.0  \n",
       "2023-01-06      113000.0  886200.0  "
      ]
     },
     "execution_count": 297,
     "metadata": {},
     "output_type": "execute_result"
    }
   ],
   "source": [
    "concat_df3 = concat_df2.copy()\n",
    "concat4 = pd.concat([concat_df2, concat_df3], axis = 0)\n",
    "concat4"
   ]
  },
  {
   "cell_type": "code",
   "execution_count": 300,
   "id": "c994aeea-ffbd-4c3a-acd2-f0678865dd0e",
   "metadata": {},
   "outputs": [
    {
     "data": {
      "text/html": [
       "<div>\n",
       "<style scoped>\n",
       "    .dataframe tbody tr th:only-of-type {\n",
       "        vertical-align: middle;\n",
       "    }\n",
       "\n",
       "    .dataframe tbody tr th {\n",
       "        vertical-align: top;\n",
       "    }\n",
       "\n",
       "    .dataframe thead th {\n",
       "        text-align: right;\n",
       "    }\n",
       "</style>\n",
       "<table border=\"1\" class=\"dataframe\">\n",
       "  <thead>\n",
       "    <tr style=\"text-align: right;\">\n",
       "      <th></th>\n",
       "      <th>A텔레콤</th>\n",
       "      <th>B전자</th>\n",
       "      <th>C은행</th>\n",
       "      <th>D철강</th>\n",
       "      <th>F화학</th>\n",
       "      <th>F화학_add500</th>\n",
       "      <th>A텔레콤_add_B전자</th>\n",
       "      <th>sum1</th>\n",
       "    </tr>\n",
       "  </thead>\n",
       "  <tbody>\n",
       "    <tr>\n",
       "      <th>2023-01-02</th>\n",
       "      <td>48000.0</td>\n",
       "      <td>60000.0</td>\n",
       "      <td>54000.0</td>\n",
       "      <td>5000.0</td>\n",
       "      <td>3000.0</td>\n",
       "      <td>3500.0</td>\n",
       "      <td>108000.0</td>\n",
       "      <td>844500.0</td>\n",
       "    </tr>\n",
       "    <tr>\n",
       "      <th>2023-01-03</th>\n",
       "      <td>48500.0</td>\n",
       "      <td>61000.0</td>\n",
       "      <td>NaN</td>\n",
       "      <td>NaN</td>\n",
       "      <td>NaN</td>\n",
       "      <td>3600.0</td>\n",
       "      <td>109500.0</td>\n",
       "      <td>857400.0</td>\n",
       "    </tr>\n",
       "    <tr>\n",
       "      <th>2023-01-04</th>\n",
       "      <td>48100.0</td>\n",
       "      <td>60100.0</td>\n",
       "      <td>54100.0</td>\n",
       "      <td>5100.0</td>\n",
       "      <td>3100.0</td>\n",
       "      <td>3600.0</td>\n",
       "      <td>108100.0</td>\n",
       "      <td>844600.0</td>\n",
       "    </tr>\n",
       "    <tr>\n",
       "      <th>2023-01-05</th>\n",
       "      <td>49950.0</td>\n",
       "      <td>62950.0</td>\n",
       "      <td>56950.0</td>\n",
       "      <td>5250.0</td>\n",
       "      <td>3250.0</td>\n",
       "      <td>3750.0</td>\n",
       "      <td>112900.0</td>\n",
       "      <td>885000.0</td>\n",
       "    </tr>\n",
       "    <tr>\n",
       "      <th>2023-01-06</th>\n",
       "      <td>50000.0</td>\n",
       "      <td>63000.0</td>\n",
       "      <td>57000.0</td>\n",
       "      <td>5300.0</td>\n",
       "      <td>3300.0</td>\n",
       "      <td>3800.0</td>\n",
       "      <td>113000.0</td>\n",
       "      <td>886200.0</td>\n",
       "    </tr>\n",
       "  </tbody>\n",
       "</table>\n",
       "</div>"
      ],
      "text/plain": [
       "               A텔레콤      B전자      C은행     D철강     F화학  F화학_add500  \\\n",
       "2023-01-02  48000.0  60000.0  54000.0  5000.0  3000.0      3500.0   \n",
       "2023-01-03  48500.0  61000.0      NaN     NaN     NaN      3600.0   \n",
       "2023-01-04  48100.0  60100.0  54100.0  5100.0  3100.0      3600.0   \n",
       "2023-01-05  49950.0  62950.0  56950.0  5250.0  3250.0      3750.0   \n",
       "2023-01-06  50000.0  63000.0  57000.0  5300.0  3300.0      3800.0   \n",
       "\n",
       "            A텔레콤_add_B전자      sum1  \n",
       "2023-01-02      108000.0  844500.0  \n",
       "2023-01-03      109500.0  857400.0  \n",
       "2023-01-04      108100.0  844600.0  \n",
       "2023-01-05      112900.0  885000.0  \n",
       "2023-01-06      113000.0  886200.0  "
      ]
     },
     "execution_count": 300,
     "metadata": {},
     "output_type": "execute_result"
    }
   ],
   "source": [
    "concat4.drop_duplicates()  # 중복치 내용 제거!"
   ]
  },
  {
   "cell_type": "code",
   "execution_count": 308,
   "id": "af0ac3ad-bac3-4e7f-8121-59adb03ec1db",
   "metadata": {},
   "outputs": [],
   "source": [
    "concat5 = concat4.drop_duplicates()"
   ]
  },
  {
   "cell_type": "code",
   "execution_count": 309,
   "id": "87b2204a-9e85-487b-bce1-7872d465b1d6",
   "metadata": {},
   "outputs": [],
   "source": [
    "idx = concat5['F화학_add500'].drop_duplicates().index"
   ]
  },
  {
   "cell_type": "code",
   "execution_count": 310,
   "id": "eda030f1-60bc-4a56-a8fa-f49f541be804",
   "metadata": {},
   "outputs": [
    {
     "data": {
      "text/html": [
       "<div>\n",
       "<style scoped>\n",
       "    .dataframe tbody tr th:only-of-type {\n",
       "        vertical-align: middle;\n",
       "    }\n",
       "\n",
       "    .dataframe tbody tr th {\n",
       "        vertical-align: top;\n",
       "    }\n",
       "\n",
       "    .dataframe thead th {\n",
       "        text-align: right;\n",
       "    }\n",
       "</style>\n",
       "<table border=\"1\" class=\"dataframe\">\n",
       "  <thead>\n",
       "    <tr style=\"text-align: right;\">\n",
       "      <th></th>\n",
       "      <th>A텔레콤</th>\n",
       "      <th>B전자</th>\n",
       "      <th>C은행</th>\n",
       "      <th>D철강</th>\n",
       "      <th>F화학</th>\n",
       "      <th>F화학_add500</th>\n",
       "      <th>A텔레콤_add_B전자</th>\n",
       "      <th>sum1</th>\n",
       "    </tr>\n",
       "  </thead>\n",
       "  <tbody>\n",
       "    <tr>\n",
       "      <th>2023-01-02</th>\n",
       "      <td>48000.0</td>\n",
       "      <td>60000.0</td>\n",
       "      <td>54000.0</td>\n",
       "      <td>5000.0</td>\n",
       "      <td>3000.0</td>\n",
       "      <td>3500.0</td>\n",
       "      <td>108000.0</td>\n",
       "      <td>844500.0</td>\n",
       "    </tr>\n",
       "    <tr>\n",
       "      <th>2023-01-03</th>\n",
       "      <td>48500.0</td>\n",
       "      <td>61000.0</td>\n",
       "      <td>NaN</td>\n",
       "      <td>NaN</td>\n",
       "      <td>NaN</td>\n",
       "      <td>3600.0</td>\n",
       "      <td>109500.0</td>\n",
       "      <td>857400.0</td>\n",
       "    </tr>\n",
       "    <tr>\n",
       "      <th>2023-01-05</th>\n",
       "      <td>49950.0</td>\n",
       "      <td>62950.0</td>\n",
       "      <td>56950.0</td>\n",
       "      <td>5250.0</td>\n",
       "      <td>3250.0</td>\n",
       "      <td>3750.0</td>\n",
       "      <td>112900.0</td>\n",
       "      <td>885000.0</td>\n",
       "    </tr>\n",
       "    <tr>\n",
       "      <th>2023-01-06</th>\n",
       "      <td>50000.0</td>\n",
       "      <td>63000.0</td>\n",
       "      <td>57000.0</td>\n",
       "      <td>5300.0</td>\n",
       "      <td>3300.0</td>\n",
       "      <td>3800.0</td>\n",
       "      <td>113000.0</td>\n",
       "      <td>886200.0</td>\n",
       "    </tr>\n",
       "  </tbody>\n",
       "</table>\n",
       "</div>"
      ],
      "text/plain": [
       "               A텔레콤      B전자      C은행     D철강     F화학  F화학_add500  \\\n",
       "2023-01-02  48000.0  60000.0  54000.0  5000.0  3000.0      3500.0   \n",
       "2023-01-03  48500.0  61000.0      NaN     NaN     NaN      3600.0   \n",
       "2023-01-05  49950.0  62950.0  56950.0  5250.0  3250.0      3750.0   \n",
       "2023-01-06  50000.0  63000.0  57000.0  5300.0  3300.0      3800.0   \n",
       "\n",
       "            A텔레콤_add_B전자      sum1  \n",
       "2023-01-02      108000.0  844500.0  \n",
       "2023-01-03      109500.0  857400.0  \n",
       "2023-01-05      112900.0  885000.0  \n",
       "2023-01-06      113000.0  886200.0  "
      ]
     },
     "execution_count": 310,
     "metadata": {},
     "output_type": "execute_result"
    }
   ],
   "source": [
    "concat5.loc[idx, :]"
   ]
  },
  {
   "cell_type": "markdown",
   "id": "e6801733-3635-4332-ad33-6c044afd3488",
   "metadata": {},
   "source": [
    "### 실습"
   ]
  },
  {
   "cell_type": "markdown",
   "id": "1a990287-e0c0-4359-b241-24702a19460d",
   "metadata": {},
   "source": [
    "Q1 .2022-01-01 ~2022-12-01월초 인덱스 생성 -> <br>\n",
    "Q2. 생성 인덱스로 데이터 프레임 생성( 값은 자율, 칼럼이름 value) <br>\n",
    "Q3. value칼럼에서 100을 더한 value_add_100 칼럼을 생성 <br>\n",
    "Q4. value칼럼과 value_add_100 칼럼을 평균한 mean 칼럼을 생성 <br>"
   ]
  },
  {
   "cell_type": "code",
   "execution_count": 313,
   "id": "ce8d9b1a-4eb2-4c73-aedb-fc9b46c852a8",
   "metadata": {},
   "outputs": [],
   "source": [
    "m_index = pd.date_range('2022-01-01', '2022-12-31', freq = 'MS')"
   ]
  },
  {
   "cell_type": "code",
   "execution_count": 323,
   "id": "278a2911-5926-4039-8053-9e03034f7ee9",
   "metadata": {},
   "outputs": [
    {
     "data": {
      "text/plain": [
       "[[0, 0, 0, 0, 0, 0, 0, 0, 0, 0, 0, 0],\n",
       " [0, 0, 0, 0, 0, 0, 0, 0, 0, 0, 0, 0],\n",
       " [0, 0, 0, 0, 0, 0, 0, 0, 0, 0, 0, 0],\n",
       " [0, 0, 0, 0, 0, 0, 0, 0, 0, 0, 0, 0],\n",
       " [0, 0, 0, 0, 0, 0, 0, 0, 0, 0, 0, 0],\n",
       " [0, 0, 0, 0, 0, 0, 0, 0, 0, 0, 0, 0],\n",
       " [0, 0, 0, 0, 0, 0, 0, 0, 0, 0, 0, 0],\n",
       " [0, 0, 0, 0, 0, 0, 0, 0, 0, 0, 0, 0],\n",
       " [0, 0, 0, 0, 0, 0, 0, 0, 0, 0, 0, 0],\n",
       " [0, 0, 0, 0, 0, 0, 0, 0, 0, 0, 0, 0],\n",
       " [0, 0, 0, 0, 0, 0, 0, 0, 0, 0, 0, 0],\n",
       " [0, 0, 0, 0, 0, 0, 0, 0, 0, 0, 0, 0]]"
      ]
     },
     "execution_count": 323,
     "metadata": {},
     "output_type": "execute_result"
    }
   ],
   "source": [
    "gab = [ [0]*len(m_index) for i in range(len(m_index))]\n",
    "gab"
   ]
  },
  {
   "cell_type": "code",
   "execution_count": 328,
   "id": "4246f42a-1a45-4ee8-818d-bd10c7cf3dd1",
   "metadata": {},
   "outputs": [
    {
     "data": {
      "text/plain": [
       "[0, 10, 20, 30, 40, 50, 60, 70, 80, 90, 100, 110]"
      ]
     },
     "execution_count": 328,
     "metadata": {},
     "output_type": "execute_result"
    }
   ],
   "source": [
    "values = [i*10 for i in range(12)]\n",
    "values"
   ]
  },
  {
   "cell_type": "code",
   "execution_count": null,
   "id": "cf64996a-5c4f-4175-944a-12b455d1083d",
   "metadata": {},
   "outputs": [],
   "source": []
  },
  {
   "cell_type": "code",
   "execution_count": 330,
   "id": "3e372274-4bbb-4b69-b85e-6837af2288e5",
   "metadata": {},
   "outputs": [
    {
     "data": {
      "text/html": [
       "<div>\n",
       "<style scoped>\n",
       "    .dataframe tbody tr th:only-of-type {\n",
       "        vertical-align: middle;\n",
       "    }\n",
       "\n",
       "    .dataframe tbody tr th {\n",
       "        vertical-align: top;\n",
       "    }\n",
       "\n",
       "    .dataframe thead th {\n",
       "        text-align: right;\n",
       "    }\n",
       "</style>\n",
       "<table border=\"1\" class=\"dataframe\">\n",
       "  <thead>\n",
       "    <tr style=\"text-align: right;\">\n",
       "      <th></th>\n",
       "      <th>value</th>\n",
       "    </tr>\n",
       "  </thead>\n",
       "  <tbody>\n",
       "    <tr>\n",
       "      <th>2022-01-01</th>\n",
       "      <td>0</td>\n",
       "    </tr>\n",
       "    <tr>\n",
       "      <th>2022-02-01</th>\n",
       "      <td>10</td>\n",
       "    </tr>\n",
       "    <tr>\n",
       "      <th>2022-03-01</th>\n",
       "      <td>20</td>\n",
       "    </tr>\n",
       "    <tr>\n",
       "      <th>2022-04-01</th>\n",
       "      <td>30</td>\n",
       "    </tr>\n",
       "    <tr>\n",
       "      <th>2022-05-01</th>\n",
       "      <td>40</td>\n",
       "    </tr>\n",
       "    <tr>\n",
       "      <th>2022-06-01</th>\n",
       "      <td>50</td>\n",
       "    </tr>\n",
       "    <tr>\n",
       "      <th>2022-07-01</th>\n",
       "      <td>60</td>\n",
       "    </tr>\n",
       "    <tr>\n",
       "      <th>2022-08-01</th>\n",
       "      <td>70</td>\n",
       "    </tr>\n",
       "    <tr>\n",
       "      <th>2022-09-01</th>\n",
       "      <td>80</td>\n",
       "    </tr>\n",
       "    <tr>\n",
       "      <th>2022-10-01</th>\n",
       "      <td>90</td>\n",
       "    </tr>\n",
       "    <tr>\n",
       "      <th>2022-11-01</th>\n",
       "      <td>100</td>\n",
       "    </tr>\n",
       "    <tr>\n",
       "      <th>2022-12-01</th>\n",
       "      <td>110</td>\n",
       "    </tr>\n",
       "  </tbody>\n",
       "</table>\n",
       "</div>"
      ],
      "text/plain": [
       "            value\n",
       "2022-01-01      0\n",
       "2022-02-01     10\n",
       "2022-03-01     20\n",
       "2022-04-01     30\n",
       "2022-05-01     40\n",
       "2022-06-01     50\n",
       "2022-07-01     60\n",
       "2022-08-01     70\n",
       "2022-09-01     80\n",
       "2022-10-01     90\n",
       "2022-11-01    100\n",
       "2022-12-01    110"
      ]
     },
     "execution_count": 330,
     "metadata": {},
     "output_type": "execute_result"
    }
   ],
   "source": [
    "df = pd.DataFrame(None, index = m_index)\n",
    "df['value'] = values\n",
    "df"
   ]
  },
  {
   "cell_type": "code",
   "execution_count": 336,
   "id": "0386784a-2402-4bf8-a65f-7f142239438f",
   "metadata": {},
   "outputs": [
    {
     "data": {
      "text/html": [
       "<div>\n",
       "<style scoped>\n",
       "    .dataframe tbody tr th:only-of-type {\n",
       "        vertical-align: middle;\n",
       "    }\n",
       "\n",
       "    .dataframe tbody tr th {\n",
       "        vertical-align: top;\n",
       "    }\n",
       "\n",
       "    .dataframe thead th {\n",
       "        text-align: right;\n",
       "    }\n",
       "</style>\n",
       "<table border=\"1\" class=\"dataframe\">\n",
       "  <thead>\n",
       "    <tr style=\"text-align: right;\">\n",
       "      <th></th>\n",
       "      <th>value</th>\n",
       "      <th>value_add_100</th>\n",
       "      <th>mean</th>\n",
       "    </tr>\n",
       "  </thead>\n",
       "  <tbody>\n",
       "    <tr>\n",
       "      <th>2022-01-01</th>\n",
       "      <td>0</td>\n",
       "      <td>100</td>\n",
       "      <td>50.0</td>\n",
       "    </tr>\n",
       "    <tr>\n",
       "      <th>2022-02-01</th>\n",
       "      <td>10</td>\n",
       "      <td>110</td>\n",
       "      <td>60.0</td>\n",
       "    </tr>\n",
       "    <tr>\n",
       "      <th>2022-03-01</th>\n",
       "      <td>20</td>\n",
       "      <td>120</td>\n",
       "      <td>70.0</td>\n",
       "    </tr>\n",
       "    <tr>\n",
       "      <th>2022-04-01</th>\n",
       "      <td>30</td>\n",
       "      <td>130</td>\n",
       "      <td>80.0</td>\n",
       "    </tr>\n",
       "    <tr>\n",
       "      <th>2022-05-01</th>\n",
       "      <td>40</td>\n",
       "      <td>140</td>\n",
       "      <td>90.0</td>\n",
       "    </tr>\n",
       "    <tr>\n",
       "      <th>2022-06-01</th>\n",
       "      <td>50</td>\n",
       "      <td>150</td>\n",
       "      <td>100.0</td>\n",
       "    </tr>\n",
       "    <tr>\n",
       "      <th>2022-07-01</th>\n",
       "      <td>60</td>\n",
       "      <td>160</td>\n",
       "      <td>110.0</td>\n",
       "    </tr>\n",
       "    <tr>\n",
       "      <th>2022-08-01</th>\n",
       "      <td>70</td>\n",
       "      <td>170</td>\n",
       "      <td>120.0</td>\n",
       "    </tr>\n",
       "    <tr>\n",
       "      <th>2022-09-01</th>\n",
       "      <td>80</td>\n",
       "      <td>180</td>\n",
       "      <td>130.0</td>\n",
       "    </tr>\n",
       "    <tr>\n",
       "      <th>2022-10-01</th>\n",
       "      <td>90</td>\n",
       "      <td>190</td>\n",
       "      <td>140.0</td>\n",
       "    </tr>\n",
       "    <tr>\n",
       "      <th>2022-11-01</th>\n",
       "      <td>100</td>\n",
       "      <td>200</td>\n",
       "      <td>150.0</td>\n",
       "    </tr>\n",
       "    <tr>\n",
       "      <th>2022-12-01</th>\n",
       "      <td>110</td>\n",
       "      <td>210</td>\n",
       "      <td>160.0</td>\n",
       "    </tr>\n",
       "  </tbody>\n",
       "</table>\n",
       "</div>"
      ],
      "text/plain": [
       "            value  value_add_100   mean\n",
       "2022-01-01      0            100   50.0\n",
       "2022-02-01     10            110   60.0\n",
       "2022-03-01     20            120   70.0\n",
       "2022-04-01     30            130   80.0\n",
       "2022-05-01     40            140   90.0\n",
       "2022-06-01     50            150  100.0\n",
       "2022-07-01     60            160  110.0\n",
       "2022-08-01     70            170  120.0\n",
       "2022-09-01     80            180  130.0\n",
       "2022-10-01     90            190  140.0\n",
       "2022-11-01    100            200  150.0\n",
       "2022-12-01    110            210  160.0"
      ]
     },
     "execution_count": 336,
     "metadata": {},
     "output_type": "execute_result"
    }
   ],
   "source": [
    "df['value_add_100'] = df['value']+100\n",
    "df['mean'] =(df['value_add_100']+ df['value'])/2\n",
    "df"
   ]
  },
  {
   "cell_type": "code",
   "execution_count": 319,
   "id": "942e594f-b966-487d-b74b-d6a58eb41fc9",
   "metadata": {},
   "outputs": [
    {
     "data": {
      "text/plain": [
       "12"
      ]
     },
     "execution_count": 319,
     "metadata": {},
     "output_type": "execute_result"
    }
   ],
   "source": [
    "len(m_index)"
   ]
  },
  {
   "cell_type": "code",
   "execution_count": null,
   "id": "67252224-555f-47aa-9286-8f0064641abc",
   "metadata": {},
   "outputs": [],
   "source": []
  },
  {
   "cell_type": "markdown",
   "id": "a9054b5a-7d0b-4b70-a5a9-75777c575062",
   "metadata": {},
   "source": [
    "선생님답안"
   ]
  },
  {
   "cell_type": "markdown",
   "id": "35952f18-b0d8-499c-ab92-b1a03375d545",
   "metadata": {},
   "source": [
    "Q1 .2022-01-01 ~2022-12-01월초 인덱스 생성 -> <br>\n",
    "Q2. 생성 인덱스로 데이터 프레임 생성( 값은 자율, 칼럼이름 value) <br>\n",
    "Q3. value칼럼에서 100을 더한 value_add_100 칼럼을 생성 <br>\n",
    "Q4. value칼럼과 value_add_100 칼럼을 평균한 mean 칼럼을 생성 <br>"
   ]
  },
  {
   "cell_type": "code",
   "execution_count": 352,
   "id": "2872246f-ee17-4eed-975f-37de3ccbc33f",
   "metadata": {},
   "outputs": [
    {
     "data": {
      "text/plain": [
       "DatetimeIndex(['2022-01-01', '2022-02-01', '2022-03-01', '2022-04-01',\n",
       "               '2022-05-01', '2022-06-01', '2022-07-01', '2022-08-01',\n",
       "               '2022-09-01', '2022-10-01', '2022-11-01', '2022-12-01'],\n",
       "              dtype='datetime64[ns]', freq='MS')"
      ]
     },
     "execution_count": 352,
     "metadata": {},
     "output_type": "execute_result"
    }
   ],
   "source": [
    "# Q1 .2022-01-01 ~2022-12-01월초 인덱스 생성 ->\n",
    "dates = pd.date_range('2022-01-01', '2022-12-01', freq ='MS')\n",
    "dates"
   ]
  },
  {
   "cell_type": "code",
   "execution_count": 341,
   "id": "3dd0db2b-0f51-472e-baa4-81c2ca29bce4",
   "metadata": {},
   "outputs": [
    {
     "data": {
      "text/plain": [
       "[0, 1, 2, 3, 4, 5, 6, 7, 8, 9, 10, 11]"
      ]
     },
     "execution_count": 341,
     "metadata": {},
     "output_type": "execute_result"
    }
   ],
   "source": [
    "list(range(0,12,1))"
   ]
  },
  {
   "cell_type": "code",
   "execution_count": 353,
   "id": "9c5caed4-b8a9-4066-8308-9d223ff2a446",
   "metadata": {},
   "outputs": [],
   "source": [
    "values = np.linspace(0, 1000, 12)"
   ]
  },
  {
   "cell_type": "markdown",
   "id": "2e6f6fcb-4a55-4744-961d-5fc011cf02ee",
   "metadata": {},
   "source": [
    "Q2. 생성 인덱스로 데이터 프레임 생성( 값은 자율, 칼럼이름 value)"
   ]
  },
  {
   "cell_type": "code",
   "execution_count": 356,
   "id": "693b7428-30f5-4947-bc66-d5a1699fb92e",
   "metadata": {},
   "outputs": [
    {
     "data": {
      "text/html": [
       "<div>\n",
       "<style scoped>\n",
       "    .dataframe tbody tr th:only-of-type {\n",
       "        vertical-align: middle;\n",
       "    }\n",
       "\n",
       "    .dataframe tbody tr th {\n",
       "        vertical-align: top;\n",
       "    }\n",
       "\n",
       "    .dataframe thead th {\n",
       "        text-align: right;\n",
       "    }\n",
       "</style>\n",
       "<table border=\"1\" class=\"dataframe\">\n",
       "  <thead>\n",
       "    <tr style=\"text-align: right;\">\n",
       "      <th></th>\n",
       "      <th>values</th>\n",
       "    </tr>\n",
       "  </thead>\n",
       "  <tbody>\n",
       "    <tr>\n",
       "      <th>2022-01-01</th>\n",
       "      <td>0.000000</td>\n",
       "    </tr>\n",
       "    <tr>\n",
       "      <th>2022-02-01</th>\n",
       "      <td>90.909091</td>\n",
       "    </tr>\n",
       "    <tr>\n",
       "      <th>2022-03-01</th>\n",
       "      <td>181.818182</td>\n",
       "    </tr>\n",
       "    <tr>\n",
       "      <th>2022-04-01</th>\n",
       "      <td>272.727273</td>\n",
       "    </tr>\n",
       "    <tr>\n",
       "      <th>2022-05-01</th>\n",
       "      <td>363.636364</td>\n",
       "    </tr>\n",
       "    <tr>\n",
       "      <th>2022-06-01</th>\n",
       "      <td>454.545455</td>\n",
       "    </tr>\n",
       "    <tr>\n",
       "      <th>2022-07-01</th>\n",
       "      <td>545.454545</td>\n",
       "    </tr>\n",
       "    <tr>\n",
       "      <th>2022-08-01</th>\n",
       "      <td>636.363636</td>\n",
       "    </tr>\n",
       "    <tr>\n",
       "      <th>2022-09-01</th>\n",
       "      <td>727.272727</td>\n",
       "    </tr>\n",
       "    <tr>\n",
       "      <th>2022-10-01</th>\n",
       "      <td>818.181818</td>\n",
       "    </tr>\n",
       "    <tr>\n",
       "      <th>2022-11-01</th>\n",
       "      <td>909.090909</td>\n",
       "    </tr>\n",
       "    <tr>\n",
       "      <th>2022-12-01</th>\n",
       "      <td>1000.000000</td>\n",
       "    </tr>\n",
       "  </tbody>\n",
       "</table>\n",
       "</div>"
      ],
      "text/plain": [
       "                 values\n",
       "2022-01-01     0.000000\n",
       "2022-02-01    90.909091\n",
       "2022-03-01   181.818182\n",
       "2022-04-01   272.727273\n",
       "2022-05-01   363.636364\n",
       "2022-06-01   454.545455\n",
       "2022-07-01   545.454545\n",
       "2022-08-01   636.363636\n",
       "2022-09-01   727.272727\n",
       "2022-10-01   818.181818\n",
       "2022-11-01   909.090909\n",
       "2022-12-01  1000.000000"
      ]
     },
     "execution_count": 356,
     "metadata": {},
     "output_type": "execute_result"
    }
   ],
   "source": [
    "df = pd.DataFrame(values, index= dates)\n",
    "df.columns = ['values']  # df.rename(columns = {0:'value'}, inplace =True) 한 두개 바꿀때\n",
    "df"
   ]
  },
  {
   "cell_type": "markdown",
   "id": "c9bb80c7-c802-41ea-a8e3-36f985755946",
   "metadata": {},
   "source": [
    "Q3. value칼럼에서 100을 더한 value_add_100 칼럼을 생성"
   ]
  },
  {
   "cell_type": "code",
   "execution_count": 359,
   "id": "95f010ee-9984-4bbd-81c3-d4f4475b8022",
   "metadata": {},
   "outputs": [
    {
     "data": {
      "text/html": [
       "<div>\n",
       "<style scoped>\n",
       "    .dataframe tbody tr th:only-of-type {\n",
       "        vertical-align: middle;\n",
       "    }\n",
       "\n",
       "    .dataframe tbody tr th {\n",
       "        vertical-align: top;\n",
       "    }\n",
       "\n",
       "    .dataframe thead th {\n",
       "        text-align: right;\n",
       "    }\n",
       "</style>\n",
       "<table border=\"1\" class=\"dataframe\">\n",
       "  <thead>\n",
       "    <tr style=\"text-align: right;\">\n",
       "      <th></th>\n",
       "      <th>values</th>\n",
       "      <th>value_add_100</th>\n",
       "    </tr>\n",
       "  </thead>\n",
       "  <tbody>\n",
       "    <tr>\n",
       "      <th>2022-01-01</th>\n",
       "      <td>0.000000</td>\n",
       "      <td>100.000000</td>\n",
       "    </tr>\n",
       "    <tr>\n",
       "      <th>2022-02-01</th>\n",
       "      <td>90.909091</td>\n",
       "      <td>190.909091</td>\n",
       "    </tr>\n",
       "    <tr>\n",
       "      <th>2022-03-01</th>\n",
       "      <td>181.818182</td>\n",
       "      <td>281.818182</td>\n",
       "    </tr>\n",
       "    <tr>\n",
       "      <th>2022-04-01</th>\n",
       "      <td>272.727273</td>\n",
       "      <td>372.727273</td>\n",
       "    </tr>\n",
       "    <tr>\n",
       "      <th>2022-05-01</th>\n",
       "      <td>363.636364</td>\n",
       "      <td>463.636364</td>\n",
       "    </tr>\n",
       "    <tr>\n",
       "      <th>2022-06-01</th>\n",
       "      <td>454.545455</td>\n",
       "      <td>554.545455</td>\n",
       "    </tr>\n",
       "    <tr>\n",
       "      <th>2022-07-01</th>\n",
       "      <td>545.454545</td>\n",
       "      <td>645.454545</td>\n",
       "    </tr>\n",
       "    <tr>\n",
       "      <th>2022-08-01</th>\n",
       "      <td>636.363636</td>\n",
       "      <td>736.363636</td>\n",
       "    </tr>\n",
       "    <tr>\n",
       "      <th>2022-09-01</th>\n",
       "      <td>727.272727</td>\n",
       "      <td>827.272727</td>\n",
       "    </tr>\n",
       "    <tr>\n",
       "      <th>2022-10-01</th>\n",
       "      <td>818.181818</td>\n",
       "      <td>918.181818</td>\n",
       "    </tr>\n",
       "    <tr>\n",
       "      <th>2022-11-01</th>\n",
       "      <td>909.090909</td>\n",
       "      <td>1009.090909</td>\n",
       "    </tr>\n",
       "    <tr>\n",
       "      <th>2022-12-01</th>\n",
       "      <td>1000.000000</td>\n",
       "      <td>1100.000000</td>\n",
       "    </tr>\n",
       "  </tbody>\n",
       "</table>\n",
       "</div>"
      ],
      "text/plain": [
       "                 values  value_add_100\n",
       "2022-01-01     0.000000     100.000000\n",
       "2022-02-01    90.909091     190.909091\n",
       "2022-03-01   181.818182     281.818182\n",
       "2022-04-01   272.727273     372.727273\n",
       "2022-05-01   363.636364     463.636364\n",
       "2022-06-01   454.545455     554.545455\n",
       "2022-07-01   545.454545     645.454545\n",
       "2022-08-01   636.363636     736.363636\n",
       "2022-09-01   727.272727     827.272727\n",
       "2022-10-01   818.181818     918.181818\n",
       "2022-11-01   909.090909    1009.090909\n",
       "2022-12-01  1000.000000    1100.000000"
      ]
     },
     "execution_count": 359,
     "metadata": {},
     "output_type": "execute_result"
    }
   ],
   "source": [
    "df['value_add_100'] = df['values'] + 100\n",
    "df"
   ]
  },
  {
   "cell_type": "markdown",
   "id": "51ebacfa-eac9-44ea-a9cb-f5d6655f919b",
   "metadata": {},
   "source": [
    "Q4. value칼럼과 value_add_100 칼럼을 평균한 mean 칼럼을 생성"
   ]
  },
  {
   "cell_type": "code",
   "execution_count": 361,
   "id": "b9246546-6014-4695-ba44-98a21887407f",
   "metadata": {},
   "outputs": [
    {
     "data": {
      "text/html": [
       "<div>\n",
       "<style scoped>\n",
       "    .dataframe tbody tr th:only-of-type {\n",
       "        vertical-align: middle;\n",
       "    }\n",
       "\n",
       "    .dataframe tbody tr th {\n",
       "        vertical-align: top;\n",
       "    }\n",
       "\n",
       "    .dataframe thead th {\n",
       "        text-align: right;\n",
       "    }\n",
       "</style>\n",
       "<table border=\"1\" class=\"dataframe\">\n",
       "  <thead>\n",
       "    <tr style=\"text-align: right;\">\n",
       "      <th></th>\n",
       "      <th>values</th>\n",
       "      <th>value_add_100</th>\n",
       "      <th>mean</th>\n",
       "    </tr>\n",
       "  </thead>\n",
       "  <tbody>\n",
       "    <tr>\n",
       "      <th>2022-01-01</th>\n",
       "      <td>0.000000</td>\n",
       "      <td>100.000000</td>\n",
       "      <td>50.000000</td>\n",
       "    </tr>\n",
       "    <tr>\n",
       "      <th>2022-02-01</th>\n",
       "      <td>90.909091</td>\n",
       "      <td>190.909091</td>\n",
       "      <td>140.909091</td>\n",
       "    </tr>\n",
       "    <tr>\n",
       "      <th>2022-03-01</th>\n",
       "      <td>181.818182</td>\n",
       "      <td>281.818182</td>\n",
       "      <td>231.818182</td>\n",
       "    </tr>\n",
       "    <tr>\n",
       "      <th>2022-04-01</th>\n",
       "      <td>272.727273</td>\n",
       "      <td>372.727273</td>\n",
       "      <td>322.727273</td>\n",
       "    </tr>\n",
       "    <tr>\n",
       "      <th>2022-05-01</th>\n",
       "      <td>363.636364</td>\n",
       "      <td>463.636364</td>\n",
       "      <td>413.636364</td>\n",
       "    </tr>\n",
       "    <tr>\n",
       "      <th>2022-06-01</th>\n",
       "      <td>454.545455</td>\n",
       "      <td>554.545455</td>\n",
       "      <td>504.545455</td>\n",
       "    </tr>\n",
       "    <tr>\n",
       "      <th>2022-07-01</th>\n",
       "      <td>545.454545</td>\n",
       "      <td>645.454545</td>\n",
       "      <td>595.454545</td>\n",
       "    </tr>\n",
       "    <tr>\n",
       "      <th>2022-08-01</th>\n",
       "      <td>636.363636</td>\n",
       "      <td>736.363636</td>\n",
       "      <td>686.363636</td>\n",
       "    </tr>\n",
       "    <tr>\n",
       "      <th>2022-09-01</th>\n",
       "      <td>727.272727</td>\n",
       "      <td>827.272727</td>\n",
       "      <td>777.272727</td>\n",
       "    </tr>\n",
       "    <tr>\n",
       "      <th>2022-10-01</th>\n",
       "      <td>818.181818</td>\n",
       "      <td>918.181818</td>\n",
       "      <td>868.181818</td>\n",
       "    </tr>\n",
       "    <tr>\n",
       "      <th>2022-11-01</th>\n",
       "      <td>909.090909</td>\n",
       "      <td>1009.090909</td>\n",
       "      <td>959.090909</td>\n",
       "    </tr>\n",
       "    <tr>\n",
       "      <th>2022-12-01</th>\n",
       "      <td>1000.000000</td>\n",
       "      <td>1100.000000</td>\n",
       "      <td>1050.000000</td>\n",
       "    </tr>\n",
       "  </tbody>\n",
       "</table>\n",
       "</div>"
      ],
      "text/plain": [
       "                 values  value_add_100         mean\n",
       "2022-01-01     0.000000     100.000000    50.000000\n",
       "2022-02-01    90.909091     190.909091   140.909091\n",
       "2022-03-01   181.818182     281.818182   231.818182\n",
       "2022-04-01   272.727273     372.727273   322.727273\n",
       "2022-05-01   363.636364     463.636364   413.636364\n",
       "2022-06-01   454.545455     554.545455   504.545455\n",
       "2022-07-01   545.454545     645.454545   595.454545\n",
       "2022-08-01   636.363636     736.363636   686.363636\n",
       "2022-09-01   727.272727     827.272727   777.272727\n",
       "2022-10-01   818.181818     918.181818   868.181818\n",
       "2022-11-01   909.090909    1009.090909   959.090909\n",
       "2022-12-01  1000.000000    1100.000000  1050.000000"
      ]
     },
     "execution_count": 361,
     "metadata": {},
     "output_type": "execute_result"
    }
   ],
   "source": [
    "df['mean'] = df.mean(axis= 1)\n",
    "df"
   ]
  },
  {
   "cell_type": "code",
   "execution_count": null,
   "id": "d1603fb1-69cb-43a3-a8fb-74982fe1a6bd",
   "metadata": {},
   "outputs": [],
   "source": []
  },
  {
   "cell_type": "code",
   "execution_count": null,
   "id": "d2aba313-7af4-47ab-b4d5-0415763a1b71",
   "metadata": {},
   "outputs": [],
   "source": []
  }
 ],
 "metadata": {
  "kernelspec": {
   "display_name": "Python 3 (ipykernel)",
   "language": "python",
   "name": "python3"
  },
  "language_info": {
   "codemirror_mode": {
    "name": "ipython",
    "version": 3
   },
   "file_extension": ".py",
   "mimetype": "text/x-python",
   "name": "python",
   "nbconvert_exporter": "python",
   "pygments_lexer": "ipython3",
   "version": "3.10.8"
  }
 },
 "nbformat": 4,
 "nbformat_minor": 5
}
