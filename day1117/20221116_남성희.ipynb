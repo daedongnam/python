{
 "cells": [
  {
   "cell_type": "code",
   "execution_count": null,
   "id": "e0de156b-de2f-4de0-8955-28609e83091f",
   "metadata": {},
   "outputs": [],
   "source": [
    "11/16 과제\n",
    "\"실습\" Jupyter 디렉토리의 ipynb 파일의 단어수를 세는 프로그램.\n",
    "텍스트 파일 여부: 'python check if file is text or binary'\n",
    "https://stackoverflow.com/questions/898669/how-can-i-detect-if-a-file-is-binary-non-text-in-python\n",
    "파일명 : 단어수 형식 출력"
   ]
  },
  {
   "cell_type": "code",
   "execution_count": 4,
   "id": "a24a4dc5-fd5a-4674-ae2c-72c36f9c3db7",
   "metadata": {},
   "outputs": [
    {
     "data": {
      "text/plain": [
       "'C:\\\\Users\\\\SBAUser\\\\Jupyter_python'"
      ]
     },
     "execution_count": 4,
     "metadata": {},
     "output_type": "execute_result"
    }
   ],
   "source": [
    "%pwd"
   ]
  },
  {
   "cell_type": "code",
   "execution_count": 1,
   "id": "dcf688fb-0732-4745-9a1a-9e09d00cc269",
   "metadata": {},
   "outputs": [],
   "source": [
    "import glob"
   ]
  },
  {
   "cell_type": "code",
   "execution_count": 65,
   "id": "93be7029-5b29-4e7b-8580-576bd8493b05",
   "metadata": {},
   "outputs": [],
   "source": [
    "files2 = glob.glob('*.*')"
   ]
  },
  {
   "cell_type": "code",
   "execution_count": 66,
   "id": "d6111357-1350-489b-9611-17bfd414000a",
   "metadata": {
    "tags": []
   },
   "outputs": [
    {
     "data": {
      "text/plain": [
       "['1-05Sequence_0.ipynb',\n",
       " '1-05Sequence_2.ipynb',\n",
       " '1-06Function.ipynb',\n",
       " '1-10Basic.ipynb',\n",
       " '1-17File-0.ipynb',\n",
       " '1-20Basic.ipynb',\n",
       " '20221114 남성희.ipynb',\n",
       " '20221116_남성희.ipynb',\n",
       " 'f-string 연구.ipynb',\n",
       " 'odd_number.txt',\n",
       " 'Q-Guess_Number(random).ipynb',\n",
       " 'test.bin',\n",
       " 'test.txt.txt',\n",
       " 'testfile.txt',\n",
       " 'testwrite.txt',\n",
       " 'text_cp949.txt',\n",
       " 'text_utf8.txt',\n",
       " 'Untitled.ipynb',\n",
       " 'Untitled1.ipynb',\n",
       " 'Untitled2.ipynb',\n",
       " 'Untitled3.ipynb',\n",
       " 'WEEK1-RE.ipynb',\n",
       " '문자열.ipynb',\n",
       " '파일.ipynb']"
      ]
     },
     "execution_count": 66,
     "metadata": {},
     "output_type": "execute_result"
    }
   ],
   "source": [
    "files2"
   ]
  },
  {
   "cell_type": "code",
   "execution_count": 68,
   "id": "b2fe6903-95d3-4c18-9369-10497f845151",
   "metadata": {
    "collapsed": true,
    "jupyter": {
     "outputs_hidden": true,
     "source_hidden": true
    },
    "tags": []
   },
   "outputs": [
    {
     "data": {
      "text/plain": [
       "24"
      ]
     },
     "execution_count": 68,
     "metadata": {},
     "output_type": "execute_result"
    }
   ],
   "source": [
    "len(files2)"
   ]
  },
  {
   "cell_type": "code",
   "execution_count": null,
   "id": "2fa51652-4d1a-404e-9b2f-4cba6e82d7c1",
   "metadata": {},
   "outputs": [],
   "source": []
  },
  {
   "cell_type": "markdown",
   "id": "9ec567e0-4564-4f2d-94a7-cc9020de1c30",
   "metadata": {},
   "source": [
    "files2[0]"
   ]
  },
  {
   "cell_type": "code",
   "execution_count": 58,
   "id": "aa79bca6-da63-4d10-84aa-a814c7aaee47",
   "metadata": {},
   "outputs": [
    {
     "name": "stdout",
     "output_type": "stream",
     "text": [
      "('text/plain', None)\n",
      "('text/plain', None)\n",
      "('text/plain', None)\n",
      "('text/plain', None)\n",
      "('text/plain', None)\n",
      "('text/plain', None)\n"
     ]
    }
   ],
   "source": [
    "for i in range(len(files2)):\n",
    "    mime2 = mimetypes.guess_type(files2[i])\n",
    "    \n",
    "    print(mime2)"
   ]
  },
  {
   "cell_type": "code",
   "execution_count": 37,
   "id": "e9a9f560-3418-46be-8318-a109d86e5115",
   "metadata": {
    "collapsed": true,
    "jupyter": {
     "outputs_hidden": true,
     "source_hidden": true
    },
    "tags": []
   },
   "outputs": [
    {
     "data": {
      "text/plain": [
       "('text/plain', None)"
      ]
     },
     "execution_count": 37,
     "metadata": {},
     "output_type": "execute_result"
    }
   ],
   "source": [
    "import mimetypes\n",
    "mime = mimetypes.guess_type('odd_number.txt')\n",
    "mime"
   ]
  },
  {
   "cell_type": "code",
   "execution_count": 59,
   "id": "0e0650bb-359f-4e05-9519-a4ded9237ef4",
   "metadata": {
    "collapsed": true,
    "jupyter": {
     "outputs_hidden": true,
     "source_hidden": true
    },
    "tags": []
   },
   "outputs": [
    {
     "data": {
      "text/plain": [
       "('text/plain', None)"
      ]
     },
     "execution_count": 59,
     "metadata": {},
     "output_type": "execute_result"
    }
   ],
   "source": [
    "mime2"
   ]
  },
  {
   "cell_type": "code",
   "execution_count": null,
   "id": "1899ccb9-a6b4-4951-bc72-53bcdb9cf2f8",
   "metadata": {},
   "outputs": [],
   "source": [
    "import mimetypes\n",
    "mime2 = mimetypes.guess_type(files[i])\n",
    "mime"
   ]
  },
  {
   "cell_type": "code",
   "execution_count": null,
   "id": "d97faa65-27a7-4ac1-9e06-bfedda0e6d99",
   "metadata": {},
   "outputs": [],
   "source": []
  },
  {
   "cell_type": "code",
   "execution_count": 2,
   "id": "f2e96b28-453e-437b-b4eb-283790269fde",
   "metadata": {},
   "outputs": [],
   "source": [
    "files = glob.glob('*.ipynb') # 리스트업을 해준다.files = glob.glob('*.ipynb') # 리스트업을 해준다."
   ]
  },
  {
   "cell_type": "code",
   "execution_count": 3,
   "id": "2010e350-16b1-4733-a76f-34b9ae87f6e7",
   "metadata": {
    "tags": []
   },
   "outputs": [
    {
     "data": {
      "text/plain": [
       "['1-01JupyterNotebook.ipynb',\n",
       " '1-02Basic_0.ipynb',\n",
       " '1-03Basic2.ipynb',\n",
       " '1-05Sequence_0.ipynb',\n",
       " '1-05Sequence_2.ipynb',\n",
       " '1-06Function.ipynb',\n",
       " '1-10Basic.ipynb',\n",
       " '1-17File-0.ipynb',\n",
       " '1-20Basic.ipynb',\n",
       " '20221110_남성희.ipynb',\n",
       " '20221114 남성희.ipynb',\n",
       " 'Q-Guess_Number(random).ipynb',\n",
       " 'Untitled.ipynb',\n",
       " 'Untitled1.ipynb',\n",
       " 'Untitled2.ipynb',\n",
       " 'Untitled3.ipynb',\n",
       " 'Untitled4.ipynb',\n",
       " 'WEEK1-RE.ipynb',\n",
       " '문자열.ipynb',\n",
       " '파일.ipynb']"
      ]
     },
     "execution_count": 3,
     "metadata": {},
     "output_type": "execute_result"
    }
   ],
   "source": [
    "files"
   ]
  },
  {
   "cell_type": "code",
   "execution_count": 13,
   "id": "550b0057-e0bd-48d9-9e71-64b8c10bd09b",
   "metadata": {},
   "outputs": [],
   "source": [
    "A=str(files)"
   ]
  },
  {
   "cell_type": "code",
   "execution_count": 26,
   "id": "123b0a6a-d4f5-4f4c-a5a0-85965612d529",
   "metadata": {},
   "outputs": [
    {
     "name": "stdout",
     "output_type": "stream",
     "text": [
      "['1-01JupyterNotebook.ipynb', '1-02Basic_0.ipynb', '1-03Basic2.ipynb', '1-05Sequence_0.ipynb', '1-05Sequence_2.ipynb', '1-06Function.ipynb', '1-10Basic.ipynb', '1-17File-0.ipynb', '1-20Basic.ipynb', '20221110_남성희.ipynb', '20221114 남성희.ipynb', 'Q-Guess_Number(random).ipynb', 'Untitled.ipynb', 'Untitled1.ipynb', 'Untitled2.ipynb', 'Untitled3.ipynb', 'Untitled4.ipynb', 'WEEK1-RE.ipynb', '문자열.ipynb', '파일.ipynb']\n",
      "단어수: 411\n"
     ]
    }
   ],
   "source": [
    "print(files)\n",
    "print('단어수:' ,len(A))"
   ]
  },
  {
   "cell_type": "code",
   "execution_count": null,
   "id": "3b7d6b55-596f-464a-91bf-93b4b4615685",
   "metadata": {},
   "outputs": [],
   "source": []
  },
  {
   "cell_type": "code",
   "execution_count": 27,
   "id": "8f226f6e-5180-41f2-bc4c-c16174a174b2",
   "metadata": {},
   "outputs": [],
   "source": [
    "import mimetypes"
   ]
  },
  {
   "cell_type": "code",
   "execution_count": 33,
   "id": "01082b06-9ab9-4a1e-9880-4b993c6bd843",
   "metadata": {},
   "outputs": [
    {
     "data": {
      "text/plain": [
       "(None, None)"
      ]
     },
     "execution_count": 33,
     "metadata": {},
     "output_type": "execute_result"
    }
   ],
   "source": [
    "mime = mimetypes.guess_type('1-01JupyterNotebook.ipynb')\n",
    "mime"
   ]
  },
  {
   "cell_type": "code",
   "execution_count": null,
   "id": "daf5a7b4-615a-4748-9aff-46bde96b758c",
   "metadata": {},
   "outputs": [],
   "source": []
  },
  {
   "cell_type": "code",
   "execution_count": null,
   "id": "92cf7077-2261-4e70-9946-cb4a71e4c879",
   "metadata": {},
   "outputs": [],
   "source": [
    "You can also use the mimetypes module:\n",
    "\n",
    "import mimetypes\n",
    "...\n",
    "mime = mimetypes.guess_type(file)\n",
    "It's fairly easy to compile a list of binary mime types. \n",
    "For example Apache distributes with a mime.\n",
    "types file that you could parse into a set of lists, \n",
    "binary and text and then check to see if the mime is in your text or binary list."
   ]
  },
  {
   "cell_type": "code",
   "execution_count": null,
   "id": "118a8d0c-c3cd-49fc-931c-f66221044f5c",
   "metadata": {},
   "outputs": [],
   "source": [
    "그것은 쉽게 바이너리리스트를 mime타입으로 결합시켜준다\n",
    "예를들어 \n",
    "너의 세트 리스트들 파일타입을 보게해준다 "
   ]
  },
  {
   "cell_type": "code",
   "execution_count": null,
   "id": "88c0abb5-c0e7-426e-9986-31f559cf0670",
   "metadata": {},
   "outputs": [],
   "source": []
  },
  {
   "cell_type": "code",
   "execution_count": null,
   "id": "37a6aef3-0d5f-4450-9683-9e6f200899c4",
   "metadata": {},
   "outputs": [],
   "source": []
  },
  {
   "cell_type": "code",
   "execution_count": null,
   "id": "bf3c6c81-7e97-439d-869f-c0acb7a0e834",
   "metadata": {},
   "outputs": [],
   "source": []
  },
  {
   "cell_type": "markdown",
   "id": "9425cf26-2c1d-4e00-8648-7c3ce2770f44",
   "metadata": {
    "tags": []
   },
   "source": [
    "## 우연히 알게 된 F-string 연구."
   ]
  },
  {
   "cell_type": "code",
   "execution_count": null,
   "id": "2caa6932-5a35-4144-84de-c36afba50b63",
   "metadata": {
    "jupyter": {
     "source_hidden": true
    },
    "tags": []
   },
   "outputs": [],
   "source": [
    "다시 정리하자면 f-string\n",
    "1. 문자열 맨 앞에(따옴표앞) f를 붙인다.\n",
    "2. 사용하고 싶은 변수, 값을 중괄호 안에 넣는다.\n",
    "3. 이쁘게 출력한다."
   ]
  },
  {
   "cell_type": "code",
   "execution_count": 63,
   "id": "b6bf1dbe-cffb-466e-a182-3b92d54e6c44",
   "metadata": {},
   "outputs": [
    {
     "name": "stdout",
     "output_type": "stream",
     "text": [
      "저는 coffee를 좋아합니다. 5잔씩 마셔요!\n"
     ]
    }
   ],
   "source": [
    "s='coffee'\n",
    "n=5\n",
    "result1= f'저는 {s}를 좋아합니다. {n}잔씩 마셔요!'\n",
    "print(result1)"
   ]
  },
  {
   "cell_type": "code",
   "execution_count": null,
   "id": "c7eb3225-df1a-4446-9b1c-ced8c406c582",
   "metadata": {},
   "outputs": [],
   "source": []
  },
  {
   "cell_type": "code",
   "execution_count": null,
   "id": "103f85de-6cf4-4333-bc26-3857bb203ec7",
   "metadata": {},
   "outputs": [],
   "source": []
  }
 ],
 "metadata": {
  "kernelspec": {
   "display_name": "Python 3 (ipykernel)",
   "language": "python",
   "name": "python3"
  },
  "language_info": {
   "codemirror_mode": {
    "name": "ipython",
    "version": 3
   },
   "file_extension": ".py",
   "mimetype": "text/x-python",
   "name": "python",
   "nbconvert_exporter": "python",
   "pygments_lexer": "ipython3",
   "version": "3.10.8"
  }
 },
 "nbformat": 4,
 "nbformat_minor": 5
}
